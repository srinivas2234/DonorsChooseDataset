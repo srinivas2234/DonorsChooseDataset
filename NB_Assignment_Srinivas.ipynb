{
  "nbformat": 4,
  "nbformat_minor": 0,
  "metadata": {
    "colab": {
      "provenance": [],
      "authorship_tag": "ABX9TyNAoSIdBrorptyXLOWMbPqn",
      "include_colab_link": true
    },
    "kernelspec": {
      "name": "python3",
      "display_name": "Python 3"
    },
    "language_info": {
      "name": "python"
    }
  },
  "cells": [
    {
      "cell_type": "markdown",
      "metadata": {
        "id": "view-in-github",
        "colab_type": "text"
      },
      "source": [
        "<a href=\"https://colab.research.google.com/github/srinivas2234/DonorsChooseDataset/blob/main/NB_Assignment_Srinivas.ipynb\" target=\"_parent\"><img src=\"https://colab.research.google.com/assets/colab-badge.svg\" alt=\"Open In Colab\"/></a>"
      ]
    },
    {
      "cell_type": "code",
      "execution_count": 1,
      "metadata": {
        "id": "rlfjgDhQgP84"
      },
      "outputs": [],
      "source": [
        "import pandas as pd\n",
        "import numpy as np\n",
        "from sklearn.model_selection import train_test_split"
      ]
    },
    {
      "cell_type": "code",
      "source": [
        "from sklearn.feature_extraction.text import TfidfVectorizer\n",
        "from sklearn.feature_extraction.text import CountVectorizer"
      ],
      "metadata": {
        "id": "NJxcPX9LhZah"
      },
      "execution_count": 2,
      "outputs": []
    },
    {
      "cell_type": "code",
      "source": [
        "from sklearn.preprocessing import Normalizer #L2 norm\n",
        "from sklearn.preprocessing import StandardScaler# z= (x-mean)/sigma"
      ],
      "metadata": {
        "id": "yxzOVTgVhv5x"
      },
      "execution_count": 3,
      "outputs": []
    },
    {
      "cell_type": "code",
      "source": [
        "from scipy.sparse import hstack\n",
        "from sklearn.model_selection import RandomizedSearchCV\n",
        "from sklearn.naive_bayes import MultinomialNB\n",
        "from sklearn.metrics import roc_curve, roc_auc_score\n",
        "from sklearn.metrics import confusion_matrix,ConfusionMatrixDisplay"
      ],
      "metadata": {
        "id": "hT4apdeQh1BK"
      },
      "execution_count": 4,
      "outputs": []
    },
    {
      "cell_type": "code",
      "source": [
        "import matplotlib.pyplot as plt"
      ],
      "metadata": {
        "id": "UKrYvp9diH7z"
      },
      "execution_count": 5,
      "outputs": []
    },
    {
      "cell_type": "code",
      "source": [
        "def vectorizer(df_train,df_test,name,vect):\n",
        "    train = vect.fit_transform(df_train[name])\n",
        "    test = vect.transform(df_test[name])\n",
        "    return train,test,vect\n",
        "def vecotizer2d(df_train,df_test,name,vect):\n",
        "    train = vect.fit_transform(df_train[name].values.reshape(-1,1))\n",
        "    test = vect.transform(df_test[name].values.reshape(-1,1))\n",
        "    return train , test, vect\n",
        "def plotAucAllHyperParameter(plot_data):\n",
        "    x = [ s['alpha'] for s in plot_data['params']]\n",
        "    y_test = plot_data['mean_test_score']\n",
        "    y_train = plot_data['mean_train_score']\n",
        "    plt.plot(x,y_train,label=\"Train\",color='blue')\n",
        "    plt.plot(x,y_test,label=\"Test\",color='red')\n",
        "    plt.xlabel(\"Hyper parameter alpha -->\")\n",
        "    plt.ylabel(\"ROC AUC -->\")\n",
        "    plt.legend()\n",
        "    plt.show()"
      ],
      "metadata": {
        "id": "Ls_4y5Q_iHjc"
      },
      "execution_count": 6,
      "outputs": []
    },
    {
      "cell_type": "code",
      "source": [
        "from google.colab import drive\n",
        "drive.mount('/content/drive')"
      ],
      "metadata": {
        "colab": {
          "base_uri": "https://localhost:8080/"
        },
        "id": "h_wQquXqh6TO",
        "outputId": "5f795cbf-b4cb-4aab-853c-d7969679be12"
      },
      "execution_count": 7,
      "outputs": [
        {
          "output_type": "stream",
          "name": "stdout",
          "text": [
            "Mounted at /content/drive\n"
          ]
        }
      ]
    },
    {
      "cell_type": "code",
      "source": [
        "cd /content/drive/MyDrive/Datasets/"
      ],
      "metadata": {
        "colab": {
          "base_uri": "https://localhost:8080/"
        },
        "id": "9MBGl0wfj3A1",
        "outputId": "c1da3945-2dc4-4747-d070-eea89c6bc1b2"
      },
      "execution_count": 8,
      "outputs": [
        {
          "output_type": "stream",
          "name": "stdout",
          "text": [
            "/content/drive/MyDrive/Datasets\n"
          ]
        }
      ]
    },
    {
      "cell_type": "code",
      "source": [
        "ls"
      ],
      "metadata": {
        "colab": {
          "base_uri": "https://localhost:8080/"
        },
        "id": "WUClHsKEkMHQ",
        "outputId": "ed2efce3-1025-472c-a12b-8fb5f46d0bfa"
      },
      "execution_count": 9,
      "outputs": [
        {
          "output_type": "stream",
          "name": "stdout",
          "text": [
            "5_a.csv  5_c.csv  preprocessed_data.csv  train_data.csv\n",
            "5_b.csv  5_d.csv  resources.csv\n"
          ]
        }
      ]
    },
    {
      "cell_type": "code",
      "source": [
        "project_data = pd.read_csv('preprocessed_data.csv')\n",
        "project_data.head(3)"
      ],
      "metadata": {
        "colab": {
          "base_uri": "https://localhost:8080/",
          "height": 450
        },
        "id": "edKbP835kO4_",
        "outputId": "5e8e521a-ea33-46a2-a27f-2c1bb577f354"
      },
      "execution_count": 25,
      "outputs": [
        {
          "output_type": "execute_result",
          "data": {
            "text/plain": [
              "  school_state teacher_prefix project_grade_category  \\\n",
              "0           ca            mrs          grades_prek_2   \n",
              "1           ut             ms             grades_3_5   \n",
              "2           ca            mrs          grades_prek_2   \n",
              "\n",
              "   teacher_number_of_previously_posted_projects  project_is_approved  \\\n",
              "0                                            53                    1   \n",
              "1                                             4                    1   \n",
              "2                                            10                    1   \n",
              "\n",
              "    clean_categories                 clean_subcategories  \\\n",
              "0       math_science  appliedsciences health_lifescience   \n",
              "1       specialneeds                        specialneeds   \n",
              "2  literacy_language                            literacy   \n",
              "\n",
              "                                               essay   price  \n",
              "0  i fortunate enough use fairy tale stem kits cl...  725.05  \n",
              "1  imagine 8 9 years old you third grade classroo...  213.03  \n",
              "2  having class 24 students comes diverse learner...  329.00  "
            ],
            "text/html": [
              "\n",
              "  <div id=\"df-a5fcd02f-0449-46d3-8908-6ae1b34ade60\">\n",
              "    <div class=\"colab-df-container\">\n",
              "      <div>\n",
              "<style scoped>\n",
              "    .dataframe tbody tr th:only-of-type {\n",
              "        vertical-align: middle;\n",
              "    }\n",
              "\n",
              "    .dataframe tbody tr th {\n",
              "        vertical-align: top;\n",
              "    }\n",
              "\n",
              "    .dataframe thead th {\n",
              "        text-align: right;\n",
              "    }\n",
              "</style>\n",
              "<table border=\"1\" class=\"dataframe\">\n",
              "  <thead>\n",
              "    <tr style=\"text-align: right;\">\n",
              "      <th></th>\n",
              "      <th>school_state</th>\n",
              "      <th>teacher_prefix</th>\n",
              "      <th>project_grade_category</th>\n",
              "      <th>teacher_number_of_previously_posted_projects</th>\n",
              "      <th>project_is_approved</th>\n",
              "      <th>clean_categories</th>\n",
              "      <th>clean_subcategories</th>\n",
              "      <th>essay</th>\n",
              "      <th>price</th>\n",
              "    </tr>\n",
              "  </thead>\n",
              "  <tbody>\n",
              "    <tr>\n",
              "      <th>0</th>\n",
              "      <td>ca</td>\n",
              "      <td>mrs</td>\n",
              "      <td>grades_prek_2</td>\n",
              "      <td>53</td>\n",
              "      <td>1</td>\n",
              "      <td>math_science</td>\n",
              "      <td>appliedsciences health_lifescience</td>\n",
              "      <td>i fortunate enough use fairy tale stem kits cl...</td>\n",
              "      <td>725.05</td>\n",
              "    </tr>\n",
              "    <tr>\n",
              "      <th>1</th>\n",
              "      <td>ut</td>\n",
              "      <td>ms</td>\n",
              "      <td>grades_3_5</td>\n",
              "      <td>4</td>\n",
              "      <td>1</td>\n",
              "      <td>specialneeds</td>\n",
              "      <td>specialneeds</td>\n",
              "      <td>imagine 8 9 years old you third grade classroo...</td>\n",
              "      <td>213.03</td>\n",
              "    </tr>\n",
              "    <tr>\n",
              "      <th>2</th>\n",
              "      <td>ca</td>\n",
              "      <td>mrs</td>\n",
              "      <td>grades_prek_2</td>\n",
              "      <td>10</td>\n",
              "      <td>1</td>\n",
              "      <td>literacy_language</td>\n",
              "      <td>literacy</td>\n",
              "      <td>having class 24 students comes diverse learner...</td>\n",
              "      <td>329.00</td>\n",
              "    </tr>\n",
              "  </tbody>\n",
              "</table>\n",
              "</div>\n",
              "      <button class=\"colab-df-convert\" onclick=\"convertToInteractive('df-a5fcd02f-0449-46d3-8908-6ae1b34ade60')\"\n",
              "              title=\"Convert this dataframe to an interactive table.\"\n",
              "              style=\"display:none;\">\n",
              "        \n",
              "  <svg xmlns=\"http://www.w3.org/2000/svg\" height=\"24px\"viewBox=\"0 0 24 24\"\n",
              "       width=\"24px\">\n",
              "    <path d=\"M0 0h24v24H0V0z\" fill=\"none\"/>\n",
              "    <path d=\"M18.56 5.44l.94 2.06.94-2.06 2.06-.94-2.06-.94-.94-2.06-.94 2.06-2.06.94zm-11 1L8.5 8.5l.94-2.06 2.06-.94-2.06-.94L8.5 2.5l-.94 2.06-2.06.94zm10 10l.94 2.06.94-2.06 2.06-.94-2.06-.94-.94-2.06-.94 2.06-2.06.94z\"/><path d=\"M17.41 7.96l-1.37-1.37c-.4-.4-.92-.59-1.43-.59-.52 0-1.04.2-1.43.59L10.3 9.45l-7.72 7.72c-.78.78-.78 2.05 0 2.83L4 21.41c.39.39.9.59 1.41.59.51 0 1.02-.2 1.41-.59l7.78-7.78 2.81-2.81c.8-.78.8-2.07 0-2.86zM5.41 20L4 18.59l7.72-7.72 1.47 1.35L5.41 20z\"/>\n",
              "  </svg>\n",
              "      </button>\n",
              "      \n",
              "  <style>\n",
              "    .colab-df-container {\n",
              "      display:flex;\n",
              "      flex-wrap:wrap;\n",
              "      gap: 12px;\n",
              "    }\n",
              "\n",
              "    .colab-df-convert {\n",
              "      background-color: #E8F0FE;\n",
              "      border: none;\n",
              "      border-radius: 50%;\n",
              "      cursor: pointer;\n",
              "      display: none;\n",
              "      fill: #1967D2;\n",
              "      height: 32px;\n",
              "      padding: 0 0 0 0;\n",
              "      width: 32px;\n",
              "    }\n",
              "\n",
              "    .colab-df-convert:hover {\n",
              "      background-color: #E2EBFA;\n",
              "      box-shadow: 0px 1px 2px rgba(60, 64, 67, 0.3), 0px 1px 3px 1px rgba(60, 64, 67, 0.15);\n",
              "      fill: #174EA6;\n",
              "    }\n",
              "\n",
              "    [theme=dark] .colab-df-convert {\n",
              "      background-color: #3B4455;\n",
              "      fill: #D2E3FC;\n",
              "    }\n",
              "\n",
              "    [theme=dark] .colab-df-convert:hover {\n",
              "      background-color: #434B5C;\n",
              "      box-shadow: 0px 1px 3px 1px rgba(0, 0, 0, 0.15);\n",
              "      filter: drop-shadow(0px 1px 2px rgba(0, 0, 0, 0.3));\n",
              "      fill: #FFFFFF;\n",
              "    }\n",
              "  </style>\n",
              "\n",
              "      <script>\n",
              "        const buttonEl =\n",
              "          document.querySelector('#df-a5fcd02f-0449-46d3-8908-6ae1b34ade60 button.colab-df-convert');\n",
              "        buttonEl.style.display =\n",
              "          google.colab.kernel.accessAllowed ? 'block' : 'none';\n",
              "\n",
              "        async function convertToInteractive(key) {\n",
              "          const element = document.querySelector('#df-a5fcd02f-0449-46d3-8908-6ae1b34ade60');\n",
              "          const dataTable =\n",
              "            await google.colab.kernel.invokeFunction('convertToInteractive',\n",
              "                                                     [key], {});\n",
              "          if (!dataTable) return;\n",
              "\n",
              "          const docLinkHtml = 'Like what you see? Visit the ' +\n",
              "            '<a target=\"_blank\" href=https://colab.research.google.com/notebooks/data_table.ipynb>data table notebook</a>'\n",
              "            + ' to learn more about interactive tables.';\n",
              "          element.innerHTML = '';\n",
              "          dataTable['output_type'] = 'display_data';\n",
              "          await google.colab.output.renderOutput(dataTable, element);\n",
              "          const docLink = document.createElement('div');\n",
              "          docLink.innerHTML = docLinkHtml;\n",
              "          element.appendChild(docLink);\n",
              "        }\n",
              "      </script>\n",
              "    </div>\n",
              "  </div>\n",
              "  "
            ]
          },
          "metadata": {},
          "execution_count": 25
        }
      ]
    },
    {
      "cell_type": "code",
      "source": [
        "project_data.shape\n",
        "#project_data.columns"
      ],
      "metadata": {
        "colab": {
          "base_uri": "https://localhost:8080/"
        },
        "id": "BEIPMFaUkqv3",
        "outputId": "fa87aa96-6d68-4a86-fbb3-b8061dec2b02"
      },
      "execution_count": 37,
      "outputs": [
        {
          "output_type": "execute_result",
          "data": {
            "text/plain": [
              "(109248, 9)"
            ]
          },
          "metadata": {},
          "execution_count": 37
        }
      ]
    },
    {
      "cell_type": "markdown",
      "source": [
        "# **Splitting data into Train and cross validation(or test): Stratified Sampling**"
      ],
      "metadata": {
        "id": "LNvVvM36qe0D"
      }
    },
    {
      "cell_type": "code",
      "source": [
        "k = list(project_data.columns.values)"
      ],
      "metadata": {
        "id": "a9eZBtWrqlM3"
      },
      "execution_count": 27,
      "outputs": []
    },
    {
      "cell_type": "code",
      "source": [
        "import copy\n",
        "X=copy.copy(project_data)"
      ],
      "metadata": {
        "id": "GHxAoSyMqoph"
      },
      "execution_count": 28,
      "outputs": []
    },
    {
      "cell_type": "code",
      "source": [
        "X.head(3)"
      ],
      "metadata": {
        "colab": {
          "base_uri": "https://localhost:8080/",
          "height": 450
        },
        "id": "u3dTac4TrSbY",
        "outputId": "32a8f7a3-6579-48e6-d955-192bcad7f9f8"
      },
      "execution_count": 29,
      "outputs": [
        {
          "output_type": "execute_result",
          "data": {
            "text/plain": [
              "  school_state teacher_prefix project_grade_category  \\\n",
              "0           ca            mrs          grades_prek_2   \n",
              "1           ut             ms             grades_3_5   \n",
              "2           ca            mrs          grades_prek_2   \n",
              "\n",
              "   teacher_number_of_previously_posted_projects  project_is_approved  \\\n",
              "0                                            53                    1   \n",
              "1                                             4                    1   \n",
              "2                                            10                    1   \n",
              "\n",
              "    clean_categories                 clean_subcategories  \\\n",
              "0       math_science  appliedsciences health_lifescience   \n",
              "1       specialneeds                        specialneeds   \n",
              "2  literacy_language                            literacy   \n",
              "\n",
              "                                               essay   price  \n",
              "0  i fortunate enough use fairy tale stem kits cl...  725.05  \n",
              "1  imagine 8 9 years old you third grade classroo...  213.03  \n",
              "2  having class 24 students comes diverse learner...  329.00  "
            ],
            "text/html": [
              "\n",
              "  <div id=\"df-b6068271-179c-4900-98e4-8240665da892\">\n",
              "    <div class=\"colab-df-container\">\n",
              "      <div>\n",
              "<style scoped>\n",
              "    .dataframe tbody tr th:only-of-type {\n",
              "        vertical-align: middle;\n",
              "    }\n",
              "\n",
              "    .dataframe tbody tr th {\n",
              "        vertical-align: top;\n",
              "    }\n",
              "\n",
              "    .dataframe thead th {\n",
              "        text-align: right;\n",
              "    }\n",
              "</style>\n",
              "<table border=\"1\" class=\"dataframe\">\n",
              "  <thead>\n",
              "    <tr style=\"text-align: right;\">\n",
              "      <th></th>\n",
              "      <th>school_state</th>\n",
              "      <th>teacher_prefix</th>\n",
              "      <th>project_grade_category</th>\n",
              "      <th>teacher_number_of_previously_posted_projects</th>\n",
              "      <th>project_is_approved</th>\n",
              "      <th>clean_categories</th>\n",
              "      <th>clean_subcategories</th>\n",
              "      <th>essay</th>\n",
              "      <th>price</th>\n",
              "    </tr>\n",
              "  </thead>\n",
              "  <tbody>\n",
              "    <tr>\n",
              "      <th>0</th>\n",
              "      <td>ca</td>\n",
              "      <td>mrs</td>\n",
              "      <td>grades_prek_2</td>\n",
              "      <td>53</td>\n",
              "      <td>1</td>\n",
              "      <td>math_science</td>\n",
              "      <td>appliedsciences health_lifescience</td>\n",
              "      <td>i fortunate enough use fairy tale stem kits cl...</td>\n",
              "      <td>725.05</td>\n",
              "    </tr>\n",
              "    <tr>\n",
              "      <th>1</th>\n",
              "      <td>ut</td>\n",
              "      <td>ms</td>\n",
              "      <td>grades_3_5</td>\n",
              "      <td>4</td>\n",
              "      <td>1</td>\n",
              "      <td>specialneeds</td>\n",
              "      <td>specialneeds</td>\n",
              "      <td>imagine 8 9 years old you third grade classroo...</td>\n",
              "      <td>213.03</td>\n",
              "    </tr>\n",
              "    <tr>\n",
              "      <th>2</th>\n",
              "      <td>ca</td>\n",
              "      <td>mrs</td>\n",
              "      <td>grades_prek_2</td>\n",
              "      <td>10</td>\n",
              "      <td>1</td>\n",
              "      <td>literacy_language</td>\n",
              "      <td>literacy</td>\n",
              "      <td>having class 24 students comes diverse learner...</td>\n",
              "      <td>329.00</td>\n",
              "    </tr>\n",
              "  </tbody>\n",
              "</table>\n",
              "</div>\n",
              "      <button class=\"colab-df-convert\" onclick=\"convertToInteractive('df-b6068271-179c-4900-98e4-8240665da892')\"\n",
              "              title=\"Convert this dataframe to an interactive table.\"\n",
              "              style=\"display:none;\">\n",
              "        \n",
              "  <svg xmlns=\"http://www.w3.org/2000/svg\" height=\"24px\"viewBox=\"0 0 24 24\"\n",
              "       width=\"24px\">\n",
              "    <path d=\"M0 0h24v24H0V0z\" fill=\"none\"/>\n",
              "    <path d=\"M18.56 5.44l.94 2.06.94-2.06 2.06-.94-2.06-.94-.94-2.06-.94 2.06-2.06.94zm-11 1L8.5 8.5l.94-2.06 2.06-.94-2.06-.94L8.5 2.5l-.94 2.06-2.06.94zm10 10l.94 2.06.94-2.06 2.06-.94-2.06-.94-.94-2.06-.94 2.06-2.06.94z\"/><path d=\"M17.41 7.96l-1.37-1.37c-.4-.4-.92-.59-1.43-.59-.52 0-1.04.2-1.43.59L10.3 9.45l-7.72 7.72c-.78.78-.78 2.05 0 2.83L4 21.41c.39.39.9.59 1.41.59.51 0 1.02-.2 1.41-.59l7.78-7.78 2.81-2.81c.8-.78.8-2.07 0-2.86zM5.41 20L4 18.59l7.72-7.72 1.47 1.35L5.41 20z\"/>\n",
              "  </svg>\n",
              "      </button>\n",
              "      \n",
              "  <style>\n",
              "    .colab-df-container {\n",
              "      display:flex;\n",
              "      flex-wrap:wrap;\n",
              "      gap: 12px;\n",
              "    }\n",
              "\n",
              "    .colab-df-convert {\n",
              "      background-color: #E8F0FE;\n",
              "      border: none;\n",
              "      border-radius: 50%;\n",
              "      cursor: pointer;\n",
              "      display: none;\n",
              "      fill: #1967D2;\n",
              "      height: 32px;\n",
              "      padding: 0 0 0 0;\n",
              "      width: 32px;\n",
              "    }\n",
              "\n",
              "    .colab-df-convert:hover {\n",
              "      background-color: #E2EBFA;\n",
              "      box-shadow: 0px 1px 2px rgba(60, 64, 67, 0.3), 0px 1px 3px 1px rgba(60, 64, 67, 0.15);\n",
              "      fill: #174EA6;\n",
              "    }\n",
              "\n",
              "    [theme=dark] .colab-df-convert {\n",
              "      background-color: #3B4455;\n",
              "      fill: #D2E3FC;\n",
              "    }\n",
              "\n",
              "    [theme=dark] .colab-df-convert:hover {\n",
              "      background-color: #434B5C;\n",
              "      box-shadow: 0px 1px 3px 1px rgba(0, 0, 0, 0.15);\n",
              "      filter: drop-shadow(0px 1px 2px rgba(0, 0, 0, 0.3));\n",
              "      fill: #FFFFFF;\n",
              "    }\n",
              "  </style>\n",
              "\n",
              "      <script>\n",
              "        const buttonEl =\n",
              "          document.querySelector('#df-b6068271-179c-4900-98e4-8240665da892 button.colab-df-convert');\n",
              "        buttonEl.style.display =\n",
              "          google.colab.kernel.accessAllowed ? 'block' : 'none';\n",
              "\n",
              "        async function convertToInteractive(key) {\n",
              "          const element = document.querySelector('#df-b6068271-179c-4900-98e4-8240665da892');\n",
              "          const dataTable =\n",
              "            await google.colab.kernel.invokeFunction('convertToInteractive',\n",
              "                                                     [key], {});\n",
              "          if (!dataTable) return;\n",
              "\n",
              "          const docLinkHtml = 'Like what you see? Visit the ' +\n",
              "            '<a target=\"_blank\" href=https://colab.research.google.com/notebooks/data_table.ipynb>data table notebook</a>'\n",
              "            + ' to learn more about interactive tables.';\n",
              "          element.innerHTML = '';\n",
              "          dataTable['output_type'] = 'display_data';\n",
              "          await google.colab.output.renderOutput(dataTable, element);\n",
              "          const docLink = document.createElement('div');\n",
              "          docLink.innerHTML = docLinkHtml;\n",
              "          element.appendChild(docLink);\n",
              "        }\n",
              "      </script>\n",
              "    </div>\n",
              "  </div>\n",
              "  "
            ]
          },
          "metadata": {},
          "execution_count": 29
        }
      ]
    },
    {
      "cell_type": "code",
      "source": [
        "X.drop(['project_is_approved'], axis=1, inplace=True)\n",
        "X.head(3)"
      ],
      "metadata": {
        "colab": {
          "base_uri": "https://localhost:8080/",
          "height": 361
        },
        "id": "4eCHX_KBq8EL",
        "outputId": "7ee584d6-ba4c-4ce0-cea1-0be46f79d895"
      },
      "execution_count": 30,
      "outputs": [
        {
          "output_type": "execute_result",
          "data": {
            "text/plain": [
              "  school_state teacher_prefix project_grade_category  \\\n",
              "0           ca            mrs          grades_prek_2   \n",
              "1           ut             ms             grades_3_5   \n",
              "2           ca            mrs          grades_prek_2   \n",
              "\n",
              "   teacher_number_of_previously_posted_projects   clean_categories  \\\n",
              "0                                            53       math_science   \n",
              "1                                             4       specialneeds   \n",
              "2                                            10  literacy_language   \n",
              "\n",
              "                  clean_subcategories  \\\n",
              "0  appliedsciences health_lifescience   \n",
              "1                        specialneeds   \n",
              "2                            literacy   \n",
              "\n",
              "                                               essay   price  \n",
              "0  i fortunate enough use fairy tale stem kits cl...  725.05  \n",
              "1  imagine 8 9 years old you third grade classroo...  213.03  \n",
              "2  having class 24 students comes diverse learner...  329.00  "
            ],
            "text/html": [
              "\n",
              "  <div id=\"df-19d7b3d9-6d40-42a8-aaa9-65631fd8a632\">\n",
              "    <div class=\"colab-df-container\">\n",
              "      <div>\n",
              "<style scoped>\n",
              "    .dataframe tbody tr th:only-of-type {\n",
              "        vertical-align: middle;\n",
              "    }\n",
              "\n",
              "    .dataframe tbody tr th {\n",
              "        vertical-align: top;\n",
              "    }\n",
              "\n",
              "    .dataframe thead th {\n",
              "        text-align: right;\n",
              "    }\n",
              "</style>\n",
              "<table border=\"1\" class=\"dataframe\">\n",
              "  <thead>\n",
              "    <tr style=\"text-align: right;\">\n",
              "      <th></th>\n",
              "      <th>school_state</th>\n",
              "      <th>teacher_prefix</th>\n",
              "      <th>project_grade_category</th>\n",
              "      <th>teacher_number_of_previously_posted_projects</th>\n",
              "      <th>clean_categories</th>\n",
              "      <th>clean_subcategories</th>\n",
              "      <th>essay</th>\n",
              "      <th>price</th>\n",
              "    </tr>\n",
              "  </thead>\n",
              "  <tbody>\n",
              "    <tr>\n",
              "      <th>0</th>\n",
              "      <td>ca</td>\n",
              "      <td>mrs</td>\n",
              "      <td>grades_prek_2</td>\n",
              "      <td>53</td>\n",
              "      <td>math_science</td>\n",
              "      <td>appliedsciences health_lifescience</td>\n",
              "      <td>i fortunate enough use fairy tale stem kits cl...</td>\n",
              "      <td>725.05</td>\n",
              "    </tr>\n",
              "    <tr>\n",
              "      <th>1</th>\n",
              "      <td>ut</td>\n",
              "      <td>ms</td>\n",
              "      <td>grades_3_5</td>\n",
              "      <td>4</td>\n",
              "      <td>specialneeds</td>\n",
              "      <td>specialneeds</td>\n",
              "      <td>imagine 8 9 years old you third grade classroo...</td>\n",
              "      <td>213.03</td>\n",
              "    </tr>\n",
              "    <tr>\n",
              "      <th>2</th>\n",
              "      <td>ca</td>\n",
              "      <td>mrs</td>\n",
              "      <td>grades_prek_2</td>\n",
              "      <td>10</td>\n",
              "      <td>literacy_language</td>\n",
              "      <td>literacy</td>\n",
              "      <td>having class 24 students comes diverse learner...</td>\n",
              "      <td>329.00</td>\n",
              "    </tr>\n",
              "  </tbody>\n",
              "</table>\n",
              "</div>\n",
              "      <button class=\"colab-df-convert\" onclick=\"convertToInteractive('df-19d7b3d9-6d40-42a8-aaa9-65631fd8a632')\"\n",
              "              title=\"Convert this dataframe to an interactive table.\"\n",
              "              style=\"display:none;\">\n",
              "        \n",
              "  <svg xmlns=\"http://www.w3.org/2000/svg\" height=\"24px\"viewBox=\"0 0 24 24\"\n",
              "       width=\"24px\">\n",
              "    <path d=\"M0 0h24v24H0V0z\" fill=\"none\"/>\n",
              "    <path d=\"M18.56 5.44l.94 2.06.94-2.06 2.06-.94-2.06-.94-.94-2.06-.94 2.06-2.06.94zm-11 1L8.5 8.5l.94-2.06 2.06-.94-2.06-.94L8.5 2.5l-.94 2.06-2.06.94zm10 10l.94 2.06.94-2.06 2.06-.94-2.06-.94-.94-2.06-.94 2.06-2.06.94z\"/><path d=\"M17.41 7.96l-1.37-1.37c-.4-.4-.92-.59-1.43-.59-.52 0-1.04.2-1.43.59L10.3 9.45l-7.72 7.72c-.78.78-.78 2.05 0 2.83L4 21.41c.39.39.9.59 1.41.59.51 0 1.02-.2 1.41-.59l7.78-7.78 2.81-2.81c.8-.78.8-2.07 0-2.86zM5.41 20L4 18.59l7.72-7.72 1.47 1.35L5.41 20z\"/>\n",
              "  </svg>\n",
              "      </button>\n",
              "      \n",
              "  <style>\n",
              "    .colab-df-container {\n",
              "      display:flex;\n",
              "      flex-wrap:wrap;\n",
              "      gap: 12px;\n",
              "    }\n",
              "\n",
              "    .colab-df-convert {\n",
              "      background-color: #E8F0FE;\n",
              "      border: none;\n",
              "      border-radius: 50%;\n",
              "      cursor: pointer;\n",
              "      display: none;\n",
              "      fill: #1967D2;\n",
              "      height: 32px;\n",
              "      padding: 0 0 0 0;\n",
              "      width: 32px;\n",
              "    }\n",
              "\n",
              "    .colab-df-convert:hover {\n",
              "      background-color: #E2EBFA;\n",
              "      box-shadow: 0px 1px 2px rgba(60, 64, 67, 0.3), 0px 1px 3px 1px rgba(60, 64, 67, 0.15);\n",
              "      fill: #174EA6;\n",
              "    }\n",
              "\n",
              "    [theme=dark] .colab-df-convert {\n",
              "      background-color: #3B4455;\n",
              "      fill: #D2E3FC;\n",
              "    }\n",
              "\n",
              "    [theme=dark] .colab-df-convert:hover {\n",
              "      background-color: #434B5C;\n",
              "      box-shadow: 0px 1px 3px 1px rgba(0, 0, 0, 0.15);\n",
              "      filter: drop-shadow(0px 1px 2px rgba(0, 0, 0, 0.3));\n",
              "      fill: #FFFFFF;\n",
              "    }\n",
              "  </style>\n",
              "\n",
              "      <script>\n",
              "        const buttonEl =\n",
              "          document.querySelector('#df-19d7b3d9-6d40-42a8-aaa9-65631fd8a632 button.colab-df-convert');\n",
              "        buttonEl.style.display =\n",
              "          google.colab.kernel.accessAllowed ? 'block' : 'none';\n",
              "\n",
              "        async function convertToInteractive(key) {\n",
              "          const element = document.querySelector('#df-19d7b3d9-6d40-42a8-aaa9-65631fd8a632');\n",
              "          const dataTable =\n",
              "            await google.colab.kernel.invokeFunction('convertToInteractive',\n",
              "                                                     [key], {});\n",
              "          if (!dataTable) return;\n",
              "\n",
              "          const docLinkHtml = 'Like what you see? Visit the ' +\n",
              "            '<a target=\"_blank\" href=https://colab.research.google.com/notebooks/data_table.ipynb>data table notebook</a>'\n",
              "            + ' to learn more about interactive tables.';\n",
              "          element.innerHTML = '';\n",
              "          dataTable['output_type'] = 'display_data';\n",
              "          await google.colab.output.renderOutput(dataTable, element);\n",
              "          const docLink = document.createElement('div');\n",
              "          docLink.innerHTML = docLinkHtml;\n",
              "          element.appendChild(docLink);\n",
              "        }\n",
              "      </script>\n",
              "    </div>\n",
              "  </div>\n",
              "  "
            ]
          },
          "metadata": {},
          "execution_count": 30
        }
      ]
    },
    {
      "cell_type": "code",
      "source": [
        "y=project_data['project_is_approved']\n"
      ],
      "metadata": {
        "id": "1Gk-0tr1sEEq"
      },
      "execution_count": null,
      "outputs": []
    },
    {
      "cell_type": "code",
      "source": [
        "# write your code in following steps for task 1\n",
        "# 1. Split your data.\n",
        "X_train,X_test,y_train,y_test = train_test_split(X,y,test_size=0.2,stratify=y)\n",
        "#as I will be performing randomsearchCV no validation set\n"
      ],
      "metadata": {
        "id": "NHh3n6jjtCti"
      },
      "execution_count": 34,
      "outputs": []
    },
    {
      "cell_type": "markdown",
      "source": [
        "**Featueizing essay BOW**"
      ],
      "metadata": {
        "id": "VmB5o8u6tf7i"
      }
    },
    {
      "cell_type": "code",
      "source": [
        "from sklearn.feature_extraction.text import CountVectorizer\n",
        "countvect=CountVectorizer(ngram_range=(1,2))\n",
        "countvect.fit(X_train['essay'])\n",
        "train_bow= countvect.transform(X_train['essay'])\n",
        "test_bow= countvect.transform(X_test['essay'])\n",
        "print(train_bow.shape,test_bow.shape )\n"
      ],
      "metadata": {
        "colab": {
          "base_uri": "https://localhost:8080/"
        },
        "id": "NZqJ61khth4c",
        "outputId": "5669c121-4682-409b-f92b-9dc13bbac6e3"
      },
      "execution_count": 56,
      "outputs": [
        {
          "output_type": "stream",
          "name": "stdout",
          "text": [
            "(87398, 2266995) (21850, 2266995)\n"
          ]
        }
      ]
    },
    {
      "cell_type": "code",
      "source": [
        "# 4. perform one-hot encoding of categorical features.\n",
        "# 'school_state', 'teacher_prefix', 'project_grade_category','clean_categories','clean_subcategories'\n",
        "train_state,test_state,model_state = vectorizer(X_train,X_test,'school_state',CountVectorizer(binary=True))\n",
        "train_prefic, test_prefix,model_prefix = vectorizer(X_train,X_test,'teacher_prefix',CountVectorizer(binary=True))\n",
        "train_grade, test_grade,model_grade = vectorizer(X_train,X_test,'project_grade_category',CountVectorizer(binary=True))\n",
        "trian_cat, test_cat,model_cat = vectorizer(X_train,X_test,'clean_categories',CountVectorizer(binary=True))\n",
        "train_sub, test_sub,model_sub = vectorizer(X_train,X_test,'clean_subcategories',CountVectorizer(binary=True))"
      ],
      "metadata": {
        "id": "7gI-EDWW9MXB"
      },
      "execution_count": 57,
      "outputs": []
    },
    {
      "cell_type": "code",
      "source": [
        "# 5. perform normalization of numerical features\n",
        "# price , teacher_number_of_previously_posted_projects\n",
        "\n",
        "# We are not using standard scalar because \n",
        "train_price,test_price,model_price = vecotizer2d(X_train,X_test,'price',Normalizer())\n",
        "train_prev_posted, test_prev_posted,model_prev_posted = vecotizer2d(X_train, X_test,'teacher_number_of_previously_posted_projects',Normalizer())"
      ],
      "metadata": {
        "id": "_Z6VzHe79Qcy"
      },
      "execution_count": 58,
      "outputs": []
    },
    {
      "cell_type": "code",
      "source": [
        "print(train_bow.shape,train_state.shape,train_prefic.shape,train_grade.shape,trian_cat.shape,train_sub.shape,train_price.shape,train_prev_posted.shape)\n"
      ],
      "metadata": {
        "colab": {
          "base_uri": "https://localhost:8080/"
        },
        "id": "awlYkNwH9Z4L",
        "outputId": "4bf5f2f5-588f-43f4-88db-6d2f149090c7"
      },
      "execution_count": 59,
      "outputs": [
        {
          "output_type": "stream",
          "name": "stdout",
          "text": [
            "(87398, 2266995) (87398, 51) (87398, 5) (87398, 4) (87398, 9) (87398, 30) (87398, 1) (87398, 1)\n"
          ]
        }
      ]
    },
    {
      "cell_type": "markdown",
      "source": [
        "**Featueizing essay TFIDF**"
      ],
      "metadata": {
        "id": "F5Lf7OAs1vIC"
      }
    },
    {
      "cell_type": "code",
      "source": [
        "from sklearn.feature_extraction.text import TfidfVectorizer\n",
        "tfidfvec=TfidfVectorizer(ngram_range=(1,2))\n",
        "tfidfvec.fit(X_train['essay'])\n",
        "tfidf_train_essay=tfidfvec.transform(X_train['essay'])\n",
        "tfidf_test_essay=tfidfvec.transform(X_test['essay'])\n",
        "print(tfidf_train_essay.shape, tfidf_test_essay.shape)"
      ],
      "metadata": {
        "colab": {
          "base_uri": "https://localhost:8080/"
        },
        "id": "BlxbCFtIzya_",
        "outputId": "5ccb8093-ab40-4671-e39c-bd08c3b50344"
      },
      "execution_count": 46,
      "outputs": [
        {
          "output_type": "stream",
          "name": "stdout",
          "text": [
            "(87398, 2266995) (21850, 2266995)\n"
          ]
        }
      ]
    },
    {
      "cell_type": "markdown",
      "source": [
        "# **Apply TF-IDF vectorization on 'Preprocessed_Title'**\n",
        "**Make Data Model Ready: encoding numerical, categorical features**"
      ],
      "metadata": {
        "id": "iDUNFM_D48R3"
      }
    },
    {
      "cell_type": "code",
      "source": [
        "tfidfvec.fit(X_train['school_state'])\n",
        "tfidf_train_school_state=tfidfvec.transform(X_train['school_state'])\n",
        "tfidf_test_school_state=tfidfvec.transform(X_test['school_state'])\n",
        "print(tfidf_train_school_state.shape, tfidf_test_school_state.shape)"
      ],
      "metadata": {
        "colab": {
          "base_uri": "https://localhost:8080/"
        },
        "id": "r2APnkey5DS6",
        "outputId": "dfe101d8-9d59-45f9-e6db-84c80309ecd6"
      },
      "execution_count": 47,
      "outputs": [
        {
          "output_type": "stream",
          "name": "stdout",
          "text": [
            "(87398, 51) (21850, 51)\n"
          ]
        }
      ]
    },
    {
      "cell_type": "code",
      "source": [
        "tfidfvec.fit(X_train['teacher_prefix'])\n",
        "tfidf_train_teacher_prefix=tfidfvec.transform(X_train['teacher_prefix'])\n",
        "tfidf_test_teacher_prefix=tfidfvec.transform(X_test['teacher_prefix'])\n",
        "print(tfidf_train_teacher_prefix.shape, tfidf_test_teacher_prefix.shape)"
      ],
      "metadata": {
        "colab": {
          "base_uri": "https://localhost:8080/"
        },
        "id": "xew0DYIq7Z81",
        "outputId": "bea2ffb9-d5b8-4859-dbf3-3108224895c5"
      },
      "execution_count": 48,
      "outputs": [
        {
          "output_type": "stream",
          "name": "stdout",
          "text": [
            "(87398, 5) (21850, 5)\n"
          ]
        }
      ]
    },
    {
      "cell_type": "code",
      "source": [
        "tfidfvec.fit(X_train['project_grade_category'])\n",
        "tfidf_train_project_grade_category=tfidfvec.transform(X_train['project_grade_category'])\n",
        "tfidf_test_project_grade_category=tfidfvec.transform(X_test['project_grade_category'])\n",
        "print(tfidf_train_project_grade_category.shape, tfidf_test_project_grade_category.shape)"
      ],
      "metadata": {
        "colab": {
          "base_uri": "https://localhost:8080/"
        },
        "id": "8wpegZ3H7vw5",
        "outputId": "dc833d7a-8eb2-4da5-8f11-348ed29ffab6"
      },
      "execution_count": 49,
      "outputs": [
        {
          "output_type": "stream",
          "name": "stdout",
          "text": [
            "(87398, 4) (21850, 4)\n"
          ]
        }
      ]
    },
    {
      "cell_type": "code",
      "source": [
        "tfidfvec.fit(X_train['clean_categories'])\n",
        "tfidf_train_clean_categories=tfidfvec.transform(X_train['clean_categories'])\n",
        "tfidf_test_clean_categories=tfidfvec.transform(X_test['clean_categories'])\n",
        "print(tfidf_train_clean_categories.shape, tfidf_test_clean_categories.shape)"
      ],
      "metadata": {
        "colab": {
          "base_uri": "https://localhost:8080/"
        },
        "id": "pMzf5_K68DPi",
        "outputId": "c2839d87-11df-4b10-aa92-78912f7b207f"
      },
      "execution_count": 50,
      "outputs": [
        {
          "output_type": "stream",
          "name": "stdout",
          "text": [
            "(87398, 53) (21850, 53)\n"
          ]
        }
      ]
    },
    {
      "cell_type": "code",
      "source": [
        "tfidfvec.fit(X_train['clean_subcategories'])\n",
        "tfidf_train_clean_subcategories=tfidfvec.transform(X_train['clean_subcategories'])\n",
        "tfidf_test_clean_subcategories=tfidfvec.transform(X_test['clean_subcategories'])\n",
        "print(tfidf_train_clean_subcategories.shape, tfidf_test_clean_subcategories.shape)"
      ],
      "metadata": {
        "colab": {
          "base_uri": "https://localhost:8080/"
        },
        "id": "DmETRxpV8YXi",
        "outputId": "f65b0bf5-9994-4f75-bfba-d734ad732c08"
      },
      "execution_count": 51,
      "outputs": [
        {
          "output_type": "stream",
          "name": "stdout",
          "text": [
            "(87398, 397) (21850, 397)\n"
          ]
        }
      ]
    },
    {
      "cell_type": "code",
      "source": [
        "# 5. perform normalization of numerical features\n",
        "# price , teacher_number_of_previously_posted_projects\n",
        "\n",
        "# We are not using standard scalar because \n",
        "from sklearn.preprocessing import Normalizer\n",
        "model_prev_posted=Normalizer()\n",
        "train_prev_posted=model_prev_posted.fit(X_train['teacher_number_of_previously_posted_projects'].values.reshape(-1,1))\n",
        "train_prev_posted=model_prev_posted.transform(X_train['teacher_number_of_previously_posted_projects'].values.reshape(-1,1))\n",
        "test_prev_posted=model_prev_posted.transform(X_test['teacher_number_of_previously_posted_projects'].values.reshape(-1,1))\n",
        "print(train_prev_posted.shape, test_prev_posted.shape)\n"
      ],
      "metadata": {
        "colab": {
          "base_uri": "https://localhost:8080/"
        },
        "id": "mOXkmjZv4-ZI",
        "outputId": "fdd3274a-10f0-4f36-b638-b4ef7d1aa626"
      },
      "execution_count": 62,
      "outputs": [
        {
          "output_type": "stream",
          "name": "stdout",
          "text": [
            "(87398, 1) (21850, 1)\n"
          ]
        }
      ]
    },
    {
      "cell_type": "markdown",
      "source": [
        "**Constructing a single featue vector**"
      ],
      "metadata": {
        "id": "KlSrPIBsSiD_"
      }
    },
    {
      "cell_type": "code",
      "source": [
        "# 6. For set 1 stack up all the features using hstack()\n",
        "train_set1 = hstack((train_bow,train_state,train_prefic,train_grade,trian_cat,train_sub,train_price,train_prev_posted))\n",
        "test_set1 = hstack((test_bow,test_state,test_prefix,test_grade,test_cat,test_sub,test_price,test_prev_posted))\n",
        "# 7. For set 2 stack up all the features using hstack()\n",
        "train_set2= hstack((tfidf_train_essay,train_state,train_prefic,train_grade,trian_cat,train_sub,train_price,train_prev_posted))\n",
        "test_set2 = hstack((tfidf_test_essay,test_state,test_prefix,test_grade,test_cat,test_sub,test_price,test_prev_posted))"
      ],
      "metadata": {
        "id": "vdHqyxMwSjvY"
      },
      "execution_count": 116,
      "outputs": []
    },
    {
      "cell_type": "code",
      "source": [
        "print(type(train_set1),type(y_train))"
      ],
      "metadata": {
        "colab": {
          "base_uri": "https://localhost:8080/"
        },
        "id": "j5yFSny8hqIb",
        "outputId": "5fd5b16e-cc04-4a27-b76f-061e7c4dc1f4"
      },
      "execution_count": 117,
      "outputs": [
        {
          "output_type": "stream",
          "name": "stdout",
          "text": [
            "<class 'scipy.sparse.coo.coo_matrix'> <class 'pandas.core.series.Series'>\n"
          ]
        }
      ]
    },
    {
      "cell_type": "markdown",
      "source": [
        "# **Appling NB on different kind of featurization as mentioned in the instructions**\n",
        "Apply NB on different kind of featurization as mentioned in the instructions\n",
        "For Every model that you work on make sure you do the step 2 and step 3 of instrucations"
      ],
      "metadata": {
        "id": "VC6NanmMUESb"
      }
    },
    {
      "cell_type": "code",
      "source": [
        "# Perform Hyperparameter Tuning.\n",
        "# Plot the training and the CV AUC scores, for different values of 'alpha', using a 2D line plot\n",
        "from sklearn.model_selection import GridSearchCV\n",
        "from sklearn.metrics import roc_auc_score\n",
        "hp_space = {'alpha':[0.01,0.05,0.1,0.2,0.5,1]}\n",
        "mnb=MultinomialNB()\n",
        "gs=GridSearchCV(mnb,n_jobs=5,param_grid=hp_space,scoring='roc_auc',cv=5,return_train_score=True)"
      ],
      "metadata": {
        "id": "J9pufGB4UMkZ"
      },
      "execution_count": 66,
      "outputs": []
    },
    {
      "cell_type": "code",
      "source": [
        "gs.fit(train_set1,y_train)"
      ],
      "metadata": {
        "colab": {
          "base_uri": "https://localhost:8080/"
        },
        "id": "IZrktDNOV6r3",
        "outputId": "832530b0-e733-476f-dee3-17d02b0ce57a"
      },
      "execution_count": 110,
      "outputs": [
        {
          "output_type": "execute_result",
          "data": {
            "text/plain": [
              "GridSearchCV(cv=5, estimator=MultinomialNB(), n_jobs=5,\n",
              "             param_grid={'alpha': [0.01, 0.05, 0.1, 0.2, 0.5, 1]},\n",
              "             return_train_score=True, scoring='roc_auc')"
            ]
          },
          "metadata": {},
          "execution_count": 110
        }
      ]
    },
    {
      "cell_type": "code",
      "source": [
        "print(\"Optimal Hyperparameter is : \",gs.best_params_)"
      ],
      "metadata": {
        "colab": {
          "base_uri": "https://localhost:8080/"
        },
        "id": "s0D4XW54UGd2",
        "outputId": "5c84b04f-1498-4f70-cacc-a5a7a0d4c5fe"
      },
      "execution_count": 124,
      "outputs": [
        {
          "output_type": "stream",
          "name": "stdout",
          "text": [
            "Optimal Hyperparameter is :  {'alpha': 0.05}\n"
          ]
        }
      ]
    },
    {
      "cell_type": "code",
      "source": [
        "gs.cv_results_"
      ],
      "metadata": {
        "colab": {
          "base_uri": "https://localhost:8080/"
        },
        "id": "UZpqs9TSTnaL",
        "outputId": "015eefe0-dfdd-47a4-b21c-2d6dc1d2e9b3"
      },
      "execution_count": 112,
      "outputs": [
        {
          "output_type": "execute_result",
          "data": {
            "text/plain": [
              "{'mean_fit_time': array([4.09177942, 3.15854502, 4.4102859 , 3.46123204, 3.3197093 ,\n",
              "        3.07557068]),\n",
              " 'std_fit_time': array([0.18082926, 0.40125053, 0.88618637, 0.25414123, 0.12739019,\n",
              "        0.19276127]),\n",
              " 'mean_score_time': array([0.60705886, 0.62480302, 0.94423437, 0.68535423, 0.67677541,\n",
              "        0.62512617]),\n",
              " 'std_score_time': array([0.0524868 , 0.12190723, 0.24640882, 0.06619897, 0.05013939,\n",
              "        0.03669248]),\n",
              " 'param_alpha': masked_array(data=[0.01, 0.05, 0.1, 0.2, 0.5, 1],\n",
              "              mask=[False, False, False, False, False, False],\n",
              "        fill_value='?',\n",
              "             dtype=object),\n",
              " 'params': [{'alpha': 0.01},\n",
              "  {'alpha': 0.05},\n",
              "  {'alpha': 0.1},\n",
              "  {'alpha': 0.2},\n",
              "  {'alpha': 0.5},\n",
              "  {'alpha': 1}],\n",
              " 'split0_test_score': array([0.62532749, 0.6447829 , 0.64309401, 0.63933475, 0.61024301,\n",
              "        0.52133311]),\n",
              " 'split1_test_score': array([0.62428556, 0.64089043, 0.64070219, 0.63851018, 0.61068417,\n",
              "        0.52721911]),\n",
              " 'split2_test_score': array([0.62104829, 0.63969128, 0.6386276 , 0.63419066, 0.60793724,\n",
              "        0.53345557]),\n",
              " 'split3_test_score': array([0.62133938, 0.64033249, 0.63998599, 0.63682898, 0.60471565,\n",
              "        0.52830384]),\n",
              " 'split4_test_score': array([0.63286041, 0.64882916, 0.64759827, 0.64244054, 0.61358999,\n",
              "        0.53061492]),\n",
              " 'mean_test_score': array([0.62497223, 0.64290525, 0.64200161, 0.63826102, 0.60943401,\n",
              "        0.52818531]),\n",
              " 'std_test_score': array([0.00427588, 0.0034533 , 0.00315123, 0.00273137, 0.00296624,\n",
              "        0.00403928]),\n",
              " 'rank_test_score': array([4, 1, 2, 3, 5, 6], dtype=int32),\n",
              " 'split0_train_score': array([0.9996892 , 0.99942933, 0.99911386, 0.99796601, 0.97434055,\n",
              "        0.77377033]),\n",
              " 'split1_train_score': array([0.99972657, 0.99944015, 0.99911021, 0.99797949, 0.97474079,\n",
              "        0.77171885]),\n",
              " 'split2_train_score': array([0.99968074, 0.99942128, 0.99897288, 0.99796104, 0.97392962,\n",
              "        0.77422998]),\n",
              " 'split3_train_score': array([0.99970627, 0.99939055, 0.99913203, 0.9981083 , 0.97439488,\n",
              "        0.77349606]),\n",
              " 'split4_train_score': array([0.99975   , 0.99952558, 0.99925447, 0.99831538, 0.97521602,\n",
              "        0.77307239]),\n",
              " 'mean_train_score': array([0.99971056, 0.99944138, 0.99911669, 0.99806604, 0.97452437,\n",
              "        0.77325752]),\n",
              " 'std_train_score': array([2.52016207e-05, 4.52211011e-05, 8.93884097e-05, 1.35998429e-04,\n",
              "        4.31162797e-04, 8.56426440e-04])}"
            ]
          },
          "metadata": {},
          "execution_count": 112
        }
      ]
    },
    {
      "cell_type": "code",
      "source": [
        "# print( [ s['alpha'] for s in gs.cv_results_['params']])\n",
        "# print(gs.cv_results_['mean_test_score'])\n",
        "# print(gs.cv_results_['mean_train_score'])\n",
        "# print(gs.cv_results_['mean_test_score'])"
      ],
      "metadata": {
        "colab": {
          "base_uri": "https://localhost:8080/"
        },
        "id": "1JkJ07cjdg4h",
        "outputId": "e32bbe66-d24b-41a4-b178-4a5629438b38"
      },
      "execution_count": 80,
      "outputs": [
        {
          "output_type": "stream",
          "name": "stdout",
          "text": [
            "[0.01, 0.05, 0.1, 0.2, 0.5, 1]\n",
            "[0.62497223 0.64290525 0.64200161 0.63826102 0.60943401 0.52818531]\n",
            "[0.99971056 0.99944138 0.99911669 0.99806604 0.97452437 0.77325752]\n",
            "[0.62497223 0.64290525 0.64200161 0.63826102 0.60943401 0.52818531]\n"
          ]
        }
      ]
    },
    {
      "cell_type": "code",
      "source": [
        "plotAucAllHyperParameter(gs.cv_results_)\n",
        "\n",
        "# def plotAucAllHyperParameter(plot_data):\n",
        "#     x = [ s['alpha'] for s in plot_data['params']]\n",
        "#     y_test = plot_data['mean_test_score']\n",
        "#     y_train = plot_data['mean_train_score']\n",
        "#     plt.plot(x,y_train,label=\"Train\",color='blue')\n",
        "#     plt.plot(x,y_test,label=\"Test\",color='red')\n",
        "#     plt.xlabel(\"Hyper parameter alpha -->\")\n",
        "#     plt.ylabel(\"ROC AUC -->\")\n",
        "#     plt.legend()\n",
        "#     plt.show()"
      ],
      "metadata": {
        "colab": {
          "base_uri": "https://localhost:8080/",
          "height": 279
        },
        "id": "8ngXNAr_Q1Fb",
        "outputId": "af04688a-9dfd-4654-d9e2-6a1f036c1051"
      },
      "execution_count": 113,
      "outputs": [
        {
          "output_type": "display_data",
          "data": {
            "text/plain": [
              "<Figure size 432x288 with 1 Axes>"
            ],
            "image/png": "[encoded data removed]"
          },
          "metadata": {
            "needs_background": "light"
          }
        }
      ]
    },
    {
      "cell_type": "code",
      "source": [
        "# Plot the ROC-AUC curves using the probability predictions made on train and test data.\n",
        "bestmnb = MultinomialNB(alpha=0.05)\n",
        "bestmnb.fit(train_set1,y_train)"
      ],
      "metadata": {
        "colab": {
          "base_uri": "https://localhost:8080/"
        },
        "id": "Z2ECQjazepkE",
        "outputId": "5a58954a-77f7-47e2-8849-52f51f596b76"
      },
      "execution_count": 125,
      "outputs": [
        {
          "output_type": "execute_result",
          "data": {
            "text/plain": [
              "MultinomialNB(alpha=0.05)"
            ]
          },
          "metadata": {},
          "execution_count": 125
        }
      ]
    },
    {
      "cell_type": "code",
      "source": [
        "y_pred_test = bestmnb.predict_proba(test_set1)\n",
        "y_pred_train = bestmnb.predict_proba(train_set1)"
      ],
      "metadata": {
        "id": "EFdPA7c5jkQ3"
      },
      "execution_count": 126,
      "outputs": []
    },
    {
      "cell_type": "code",
      "source": [
        "print(y_pred_test.shape)\n",
        "y_pred_test"
      ],
      "metadata": {
        "colab": {
          "base_uri": "https://localhost:8080/"
        },
        "id": "HpCy68BenRE0",
        "outputId": "1d0f2bdb-ea46-4111-8bca-8373f361d65b"
      },
      "execution_count": 130,
      "outputs": [
        {
          "output_type": "stream",
          "name": "stdout",
          "text": [
            "(21850, 2)\n"
          ]
        },
        {
          "output_type": "execute_result",
          "data": {
            "text/plain": [
              "array([[4.78934339e-17, 1.00000000e+00],\n",
              "       [9.16415454e-05, 9.99908358e-01],\n",
              "       [1.86032134e-06, 9.99998140e-01],\n",
              "       ...,\n",
              "       [1.89009400e-59, 1.00000000e+00],\n",
              "       [8.76392804e-14, 1.00000000e+00],\n",
              "       [9.52006666e-42, 1.00000000e+00]])"
            ]
          },
          "metadata": {},
          "execution_count": 130
        }
      ]
    },
    {
      "cell_type": "code",
      "source": [
        "print(y_pred_train.shape)\n",
        "y_pred_train"
      ],
      "metadata": {
        "colab": {
          "base_uri": "https://localhost:8080/"
        },
        "id": "vzUsPi8EpjGj",
        "outputId": "e77a0265-7dfe-40b6-d98a-9526c8689213"
      },
      "execution_count": 129,
      "outputs": [
        {
          "output_type": "stream",
          "name": "stdout",
          "text": [
            "(87398, 2)\n"
          ]
        },
        {
          "output_type": "execute_result",
          "data": {
            "text/plain": [
              "array([[4.56570643e-89, 1.00000000e+00],\n",
              "       [1.00000000e+00, 6.78352550e-42],\n",
              "       [1.74389959e-62, 1.00000000e+00],\n",
              "       ...,\n",
              "       [1.00000000e+00, 1.51244339e-60],\n",
              "       [1.62265523e-13, 1.00000000e+00],\n",
              "       [2.23626012e-34, 1.00000000e+00]])"
            ]
          },
          "metadata": {},
          "execution_count": 129
        }
      ]
    },
    {
      "cell_type": "code",
      "source": [
        "print(y_test.shape)\n",
        "print(y_pred_test[:,1].shape)\n",
        "print(y_test)\n",
        "print(y_pred_test)"
      ],
      "metadata": {
        "colab": {
          "base_uri": "https://localhost:8080/"
        },
        "id": "djE_r7qWp4Ye",
        "outputId": "62b5b3d8-b30e-4b13-ef07-3b4d920b50b1"
      },
      "execution_count": 136,
      "outputs": [
        {
          "output_type": "stream",
          "name": "stdout",
          "text": [
            "(21850,)\n",
            "(21850,)\n",
            "20582     1\n",
            "102392    1\n",
            "106502    0\n",
            "86611     0\n",
            "70789     1\n",
            "         ..\n",
            "46721     1\n",
            "38674     1\n",
            "86172     1\n",
            "38956     1\n",
            "76750     0\n",
            "Name: project_is_approved, Length: 21850, dtype: int64\n",
            "[[4.78934339e-17 1.00000000e+00]\n",
            " [9.16415454e-05 9.99908358e-01]\n",
            " [1.86032134e-06 9.99998140e-01]\n",
            " ...\n",
            " [1.89009400e-59 1.00000000e+00]\n",
            " [8.76392804e-14 1.00000000e+00]\n",
            " [9.52006666e-42 1.00000000e+00]]\n"
          ]
        }
      ]
    },
    {
      "cell_type": "code",
      "source": [
        "test = roc_curve(y_test, y_pred_test[:,1])# this returns a list which is the order of [false_postive_rate,true_positive_rate,thresholds]\n",
        "train = roc_curve(y_train,y_pred_train[:,1])\n",
        "print(\"TEST AUC SCORE\",roc_auc_score(y_test, y_pred_test[:,1]))"
      ],
      "metadata": {
        "colab": {
          "base_uri": "https://localhost:8080/"
        },
        "id": "0QzZniMBqChT",
        "outputId": "853ef7c3-52ae-49ed-acd7-645069509289"
      },
      "execution_count": 132,
      "outputs": [
        {
          "output_type": "stream",
          "name": "stdout",
          "text": [
            "TEST AUC SCORE 0.6258898308842815\n"
          ]
        }
      ]
    },
    {
      "cell_type": "code",
      "source": [
        "opt = [ (1-test[0][i])*(test[1][i]) for i in range(len(test[0]))]\n",
        "optimal_theta = opt[opt.index(max(opt))]"
      ],
      "metadata": {
        "id": "5NUJHf8XqRsh"
      },
      "execution_count": 137,
      "outputs": []
    },
    {
      "cell_type": "code",
      "source": [
        "print(opt)\n",
        "print(optimal_theta)"
      ],
      "metadata": {
        "colab": {
          "base_uri": "https://localhost:8080/"
        },
        "id": "VhRWoo-9tiSr",
        "outputId": "44c729cf-c5df-4ab0-d8c1-e74a73fd477b"
      },
      "execution_count": 139,
      "outputs": [
        {
          "output_type": "stream",
          "name": "stdout",
          "text": [
            "[0.0, 0.3703177478575063, 0.36937205340677604, 0.362130103792599, 0.36185622314097987, 0.35843133735927074, 0.35837949257850116, 0.35528220711905145, 0.35517649593713, 0.35308349931271427, 0.3531579895024427, 0.3522064747414185, 0.3522558414068808, 0.3517449257654474, 0.3515358999999609, 0.3494966882597461, 0.3495453375760406, 0.34904488871110223, 0.3490691481556888, 0.34826565187410075, 0.34805480012891415, 0.34663563892399185, 0.34558123346754716, 0.3450911861655431, 0.34513885727842686, 0.3447636510568445, 0.34481122434938716, 0.34363010894447027, 0.3436066646693927, 0.34367768223701295, 0.3423977682876106, 0.34242132668641945, 0.34196902173268, 0.34173187261913446, 0.3412079794791184, 0.3409706999384514, 0.3404458938085855, 0.33977602011290553, 0.33979468749466063, 0.33981798503922656, 0.33855357561388455, 0.3385767753381095, 0.3380018851936132, 0.3377869902076621, 0.33773389006584875, 0.3377036309736763, 0.33734233154391674, 0.33721919203789374, 0.33714196287861525, 0.33690336276334376, 0.3366100647740213, 0.33663305255417386, 0.33679396701524184, 0.33678482081335137, 0.336637617503424, 0.33601197490530005, 0.33597883011306595, 0.33600172007287743, 0.33618483975136937, 0.33620772971118085, 0.3361512547676004, 0.3360259469106836, 0.33609451896977705, 0.3362088057349327, 0.33560342825080147, 0.33556866942293956, 0.3354197379536532, 0.334722164798059, 0.3336121647811035, 0.33368010100797996, 0.33324486570375794, 0.3332674785059364, 0.3326143320885804, 0.3325543845228917, 0.33257693211150946, 0.33262202728874496, 0.33264457487736265, 0.33240405096205, 0.33258430124387045, 0.3323436469014364, 0.3323886768651111, 0.3319747500918533, 0.33210964434219536, 0.3314993106274497, 0.3313032297537653, 0.3313256469152616, 0.3306474910973708, 0.33073696410267384, 0.33075933235399957, 0.3300584170034186, 0.3299065346205099, 0.3296876616073552, 0.32944648555643535, 0.3288118434869326, 0.32883406500774676, 0.32892295109100333, 0.32896739413263165, 0.32855125009830943, 0.3280905978087983, 0.32811275411605173, 0.32795987722634207, 0.32800415723406856, 0.32776262250856486, 0.3278289936099841, 0.32785111731045713, 0.32765373216555843, 0.32767583956264135, 0.32752255508817724, 0.32754464618186996, 0.3273912149768942, 0.32741328976719675, 0.3272155948578846, 0.32728177031862166, 0.32710600346910057, 0.32717213001966705, 0.32721621438671145, 0.3272823409372779, 0.3273043831208001, 0.32660010927184235, 0.3266440958185456, 0.32666608909189726, 0.3264459118075282, 0.32646788877748967, 0.32659975059725843, 0.3264672692486629, 0.3262907361398033, 0.3263126805029844, 0.32562917717311474, 0.3256729680791358, 0.325716758985157, 0.32558362550095427, 0.32560550465057464, 0.32567114209943576, 0.3254284661366195, 0.32555964321400077, 0.3253168694308434, 0.32533871597368347, 0.32540425560220354, 0.3251614166054855, 0.3252050770843852, 0.32498401941694643, 0.32500583335300615, 0.32476292914272736, 0.3245635875910071, 0.32458536892028644, 0.32462893157884504, 0.32465071290812436, 0.3244730059551719, 0.32449477098106105, 0.32456006605872845, 0.32464712616228497, 0.32471242123995236, 0.32426942552200516, 0.3243346227793315, 0.32419989156289125, 0.324265039910047, 0.3243519043729214, 0.3243953366043586, 0.32417349637419124, 0.32399499055512, 0.32401667406405826, 0.32381638691570774, 0.3238597213268038, 0.3235454245709306, 0.3236535975647691, 0.323517790324577, 0.3235394086199545, 0.32358264521070956, 0.32360426350608706, 0.3233818200504831, 0.32346822801843245, 0.32324568674248744, 0.323066251630176, 0.32282205945207304, 0.32264247760925, 0.32268555116610326, 0.3222185079476419, 0.3219742179491978, 0.3220601694222222, 0.3220816572904782, 0.3218587573399493, 0.3213699817023791, 0.32139142066046467, 0.3214342985766358, 0.3214557375347213, 0.3214986154508924, 0.32156293232514904, 0.32131839777585236, 0.3213612430852431, 0.3211594886317765, 0.3209148888689191, 0.3209576689647491, 0.32104322915640915, 0.3210860092522392, 0.3211073993001542, 0.3211715694438992, 0.3212143495397292, 0.3212571296355593, 0.3210336427629838, 0.3210977639965583, 0.3208741956070319, 0.3209169104893012, 0.3209596253715705, 0.32049093551070107, 0.32053358517940966, 0.32057623484811826, 0.3206402093511811, 0.3204163801074119, 0.3204589971693402, 0.3205229227622325, 0.32034156384987994, 0.3204054405326017, 0.3204906094428975, 0.3205970705807672, 0.32037286635902384, 0.3204579700557589, 0.32023366801367453, 0.3202761872552617, 0.3197849661091647, 0.31982742013719107, 0.3198486471512043, 0.31973025193172344, 0.3197514626423465, 0.3192599154284459, 0.3192810935322886, 0.31854372380126716, 0.3185648529949393, 0.3180943371543698, 0.31813653032815337, 0.3176658840604623, 0.3174410603098922, 0.31756734637021966, 0.3176725847538259, 0.3174896118058457, 0.3175106431791767, 0.31755270592583884, 0.31757373729916993, 0.31732755610746516, 0.31736958624734696, 0.31739060131728786, 0.31689814111353726, 0.3169610885030188, 0.31671480949097297, 0.31673577565074335, 0.31677770797028404, 0.31679867413005436, 0.31632691923183115, 0.3163897198908011, 0.31643158699678114, 0.3161851449508335, 0.31622697945003314, 0.31548755549184915, 0.3155292921707077, 0.3152827849111993, 0.31530363694723845, 0.31534534101931666, 0.3153661930553558, 0.31540789712743394, 0.31516129204758453, 0.3149563258262526, 0.3150187841140288, 0.3150396035432875, 0.3148137037689656, 0.31483450689483417, 0.31487611314657127, 0.3148969162724399, 0.31440334743815695, 0.3144241179572452, 0.31395125442848987, 0.31399273025310553, 0.31411715772695264, 0.3141378956392605, 0.3139116534937448, 0.3139323751026625, 0.31368537874144875, 0.3137060840469762, 0.3134590713823723, 0.3134797603845096, 0.31352113838878426, 0.31354182739092157, 0.31360389439733344, 0.3136245833994708, 0.31337744030774545, 0.31315095361137707, 0.31290379421626147, 0.31296571449216176, 0.3127391299754523, 0.31282162512975864, 0.31288349649548847, 0.31267737273345375, 0.3127185877038266, 0.3122237798118902, 0.3123060793255144, 0.3120791687410014, 0.3121202858910331, 0.31214084446604895, 0.31189331009295934, 0.31195493690783643, 0.31170735362457624, 0.31174840556104727, 0.31150078967100675, 0.3112736671424213, 0.3112941605038765, 0.3108397850195843, 0.31088070652893385, 0.3106329928185523, 0.31081699288011383, 0.31058956058711507, 0.31073255762237617, 0.31081427021395397, 0.3108346983618484, 0.31087555465763733, 0.3109572672492151, 0.31099812354500395, 0.3111002642844762, 0.3108723917999425, 0.3108928036444468, 0.3106444867086286, 0.31070567333197086, 0.31045730748598205, 0.3105388244368777, 0.31031075631166183, 0.31039220804899675, 0.3104329339176642, 0.3104736597863316, 0.3102250819962705, 0.31026577525815763, 0.31030646852004473, 0.31032681515098826, 0.31007815584397624, 0.3101391468266364, 0.31022046813684984, 0.3099716947061066, 0.30999200873026983, 0.3097432189961364, 0.3097635167169093, 0.30930643486984744, 0.3093672302118254, 0.3094077604398107, 0.309448290667796, 0.3091993378997608, 0.30921958671036326, 0.3092600843315682, 0.3092803331421707, 0.30905154766778703, 0.30907178017499937, 0.30857367899824667, 0.3086140787991105, 0.30836499560395386, 0.3084053627980374, 0.30815624699610034, 0.30823691617070664, 0.3082772507580098, 0.30833775263896457, 0.3078392275740673, 0.3078593622609385, 0.3076100834250997, 0.3076503201920618, 0.30715169730682346, 0.3072119546369255, 0.3072521261903269, 0.30729229774372824, 0.3070428721773777, 0.30710308059730923, 0.3068736592907086, 0.30662416851079743, 0.3067243528434482, 0.3062252082497241, 0.3063652380679726, 0.30611555164737936, 0.30635540712369463, 0.30610552506241917, 0.30612549671538863, 0.30587559835072303, 0.30591550904988146, 0.3056655780784354, 0.3056855171246245, 0.30545549259258725, 0.3049555654361346, 0.30517435693233846, 0.3049242140168201, 0.30496396168207685, 0.3050235831799619, 0.30477335874749273, 0.3049123614521599, 0.30466202289595945, 0.30470170534765545, 0.3044513341846747, 0.30447115910713246, 0.30424058025982914, 0.3042603888788968, 0.303759548732594, 0.30379910075716854, 0.3035486480772368, 0.3035684077861339, 0.30360792720392815, 0.3036276869128252, 0.3033771690193328, 0.3034561426413605, 0.30349562945237435, 0.30351537285788127, 0.3032844679427743, 0.30334364924912455, 0.30309295201834013, 0.30315208441451985, 0.30265059213261, 0.3026702703245562, 0.30191798299152073, 0.30199650011862345, 0.30174567246071765, 0.30176528543910314, 0.3010127535552151, 0.301051881691645, 0.3010910098280749, 0.3013257786466543, 0.3010746738311154, 0.30111376936076495, 0.30086263193844576, 0.3009016948613149, 0.3003993548031157, 0.30041885365776994, 0.30016766732528016, 0.30018714987654416, 0.29993594724066425, 0.299974879736412, 0.2997236444937517, 0.2997430944382354, 0.2994918428921849, 0.2995112765332784, 0.2992600086838378, 0.29929884335924445, 0.2993376780346511, 0.29908634497164976, 0.2991445480745892, 0.2988931661014173, 0.29893193556326325, 0.29902885921787814, 0.29906762867972414, 0.29914516760341603, 0.2988935736861717, 0.29899041582383573, 0.2984870649554454, 0.2985837440592076, 0.2983319871080616, 0.2983706261427861, 0.2981188365848597, 0.29819604944074807, 0.297944194669261, 0.2980984899539162, 0.29784650475530766, 0.29734253435809055, 0.2970905491594819, 0.29710977085650314, 0.2966057678525057, 0.296682524213469, 0.29644963028476023, 0.2965454942190135, 0.29629332968311295, 0.29636995561695484, 0.29611772586749363, 0.2961368660475639, 0.2958846199947125, 0.29592286774807275, 0.29567058908844096, 0.29572791180831076, 0.29547558423850845, 0.295513766778308, 0.29526140660172523, 0.29535678143427313, 0.294851898047206, 0.2949090251263936, 0.2949471098458521, 0.2950994487236858, 0.2948467950860799, 0.294865821142419, 0.2946131512014229, 0.29465117070732066, 0.2938930630639914, 0.293930984749548, 0.2936782495949911, 0.2936971941343793, 0.2934444426764323, 0.29348229914842827, 0.29297673101897365, 0.29299562664819123, 0.29276170560590115, 0.2925088889343935, 0.2925843410241425, 0.2923314591390741, 0.29240684601526234, 0.29215389891663324, 0.2921727293322901, 0.29191976593027086, 0.29195739415480426, 0.2917043981460045, 0.2917607915726341, 0.29125470173469376, 0.29131099734098226, 0.2908048096827008, 0.2908610074686483, 0.29060786472933703, 0.2906452973131883, 0.2904108219556321, 0.2901576303061503, 0.2902510487318767, 0.289997775565444, 0.2901471146194848, 0.2898937110259306, 0.2900056174961201, 0.28924511325443447, 0.28935672626360076, 0.28910312702936447, 0.2891402987589729, 0.28863303507693966, 0.2886886948510112, 0.28843501409982397, 0.28845355105445764, 0.28819985399988024, 0.2882183746511237, 0.2879646612931562, 0.2879831656410095, 0.28747570631829406, 0.28766042372902356, 0.28740653103376407, 0.2874249864714468, 0.2871710774727972, 0.28718951660708975, 0.28693559130504986, 0.2869724369668547, 0.28621056324039396, 0.2863943024477127, 0.2861401815049907, 0.28625032720904087, 0.2857418896829147, 0.2857785397040374, 0.28552428833419397, 0.28559752316287856, 0.28534320657947443, 0.2853614989832554, 0.2851071660964611, 0.2851437182972426, 0.28463498731009323, 0.28467147429731415, 0.284417076196959, 0.2844717577676198, 0.28421731075709417, 0.2842355216439243, 0.28398105833000853, 0.2840902258306479, 0.2841266149975277, 0.28419939333128735, 0.2836900754220915, 0.28374456135207016, 0.2832351456225332, 0.28336205121168756, 0.2831072292231878, 0.28312534228967684, 0.28287050399778696, 0.2829066975239846, 0.28265182662531424, 0.28266990708502293, 0.28241501988296247, 0.28217818053383037, 0.2821962283867587, 0.2819413085779179, 0.2819773716769941, 0.2817224192613729, 0.2817584497536688, 0.2812484797088658, 0.28130242762696855, 0.2810473936943965, 0.2810653600303739, 0.28055525955844934, 0.2806628619336316, 0.2804077138773283, 0.28044354872894206, 0.27993318740277473, 0.27995107222180127, 0.2796958752553274, 0.2797494808022364, 0.279494234925592, 0.27951208713783815, 0.27925682495780363, 0.2792924967755155, 0.2790372019887006, 0.279090660805098, 0.278579973411127, 0.2786155474084978, 0.27836017110473205, 0.27852010736238925, 0.27826458432811185, 0.27828233872001695, 0.27802679938234937, 0.2781154898249238, 0.2778598689703053, 0.27789531254055466, 0.27763965907915583, 0.2776573645608904, 0.2774016947961014, 0.27749014068782313, 0.2772343894060832, 0.2772874080309457, 0.27703160783903513, 0.2770492644105991, 0.2765376314199979, 0.2766433752086997, 0.276387460893058, 0.27645789153863176, 0.27620191200942934, 0.2762195033674326, 0.27596350753484, 0.2761919832448103, 0.27593577546814535, 0.27602356922425997, 0.2757672799306441, 0.2758023648263096, 0.2750333991251209, 0.2751733474264185, 0.27491689509890094, 0.274986804035989, 0.27473028649491066, 0.2748874348728472, 0.2746307706012573, 0.2747354383662073, 0.27447867627427625, 0.27454838957068217, 0.2742915622651904, 0.27430897428590173, 0.27405213067701983, 0.2742956707195156, 0.2737815270068267, 0.2738162532279082, 0.2735591487647834, 0.2736458828005363, 0.27338869682046063, 0.2734233578279815, 0.2731661392411254, 0.27333928124482776, 0.2730818996240699, 0.27318568700595025, 0.2726707281237524, 0.2727225239943515, 0.2722074672918125, 0.27222469997523185, 0.271452066011253, 0.271537984877497, 0.27128035870588646, 0.2714520334044726, 0.2711942441989603, 0.27121139536542876, 0.2709535898565263, 0.27097072471960454, 0.27071290290731187, 0.2708156142654404, 0.2705576946328066, 0.2705918991454024, 0.2700759946665741, 0.27012720361512677, 0.2696112013159575, 0.2698326828715409, 0.2695744697778839, 0.26965957347461894, 0.2691429842534032, 0.26936382997676966, 0.2688468168674092, 0.26888072791898177, 0.2686221887575212, 0.2686391279799173, 0.2683805725150666, 0.2685498017051259, 0.2682910832063734, 0.2683248964376049, 0.268066145332072, 0.2680830356442976, 0.2675655008264515, 0.2675823585318967, 0.2670647911072702, 0.26718256679792424, 0.26692366896187963, 0.2669404777571543, 0.26668156361771966, 0.2668662810284491, 0.2663480940749958, 0.2663648539601, 0.26584663439986633, 0.2659302707914853, 0.26567107949441754, 0.2658549002186872, 0.2655955295843275, 0.26562891892741436, 0.2653695156862743, 0.26541955079073404, 0.26516009863942336, 0.26517676070418644, 0.2649172922494857, 0.2649505837722314, 0.2646910827107503, 0.2648573772905774, 0.26407838500442865, 0.2642276099347382, 0.2639677991088437, 0.26403405608653163, 0.2635143040076211, 0.26366308874639577, 0.26340306597642893, 0.26350215798193766, 0.2632420373916297, 0.263258536422491, 0.2629983995287929, 0.263014882256264, 0.2627547290591757, 0.2628041283314184, 0.2622837241169008, 0.2624151946553053, 0.262154862120925, 0.26228620223220805, 0.2617652763092046, 0.26179804612346463, 0.2615375505551826, 0.26160302497014193, 0.2613424641882992, 0.2614242256900475, 0.26116358339125384, 0.26117991938821333, 0.2609192607860295, 0.2610498183345839, 0.26078902930527864, 0.26080533269545775, 0.2602837220300669, 0.26034880516366193, 0.26008793461740576, 0.26013669805743156, 0.25987577860100475, 0.25989201677762314, 0.25963108101780624, 0.2596473028910345, 0.25938635082782746, 0.25943496753734163, 0.259173966563964, 0.2593520484948906, 0.25882968787355143, 0.25891047117188903, 0.25864920934426855, 0.2586653497005459, 0.2581427934385245, 0.25822333218600935, 0.2579619725380478, 0.258026338322475, 0.2575034885994305, 0.25755166511740984, 0.257290191345717, 0.2573062338816533, 0.25704474380657033, 0.25710884873675466, 0.25684729344811097, 0.2569113331647345, 0.25664971266253017, 0.2566657062882959, 0.2564040694827013, 0.25645200144982794, 0.2559286300182976, 0.25597646416508313, 0.2557147295391475, 0.25573065795135247, 0.2554689070220267, 0.2555484675661008, 0.25558029178373043, 0.25531842673067334, 0.2553820099523719, 0.2551359591877886, 0.255183597693892, 0.25492160221371346, 0.2549850550082906, 0.25472299431455137, 0.2547388412098055, 0.25447676421267607, 0.25449259480454, 0.2542305015040203, 0.25427794436944157, 0.25375365994806126, 0.25380100499314145, 0.25353881387228083, 0.2535703446288872, 0.25304589717360515, 0.2530773627166509, 0.2525528500478081, 0.2526156507067781, 0.25209100761081377, 0.25210667516877594, 0.25184433731740363, 0.25190694233569144, 0.25164453927075847, 0.2517696188802127, 0.2515070853881583, 0.2515695599793247, 0.25130696127370955, 0.2513537683069138, 0.2508284730753424, 0.25084404281296346, 0.2505813788937876, 0.2505969323280185, 0.25033425210545235, 0.2505051605447001, 0.2502423009848421, 0.2503354259495453, 0.2500724685693462, 0.2501034776174669, 0.2498404876304874, 0.24993341695450844, 0.24940724133986739, 0.249438152567647, 0.24864879132534437, 0.24874123154766, 0.24847801331321795, 0.24853957491453432, 0.24827629146653166, 0.24830703966040946, 0.24804372360562643, 0.24813587036691886, 0.24787245649179473, 0.24790313947211187, 0.2476396929902074, 0.24768566855051252, 0.2474221731584375, 0.24745279092519393, 0.24718926292633855, 0.24720455550632658, 0.24694101120408105, 0.2469562874806789, 0.24669272687504318, 0.24678428671428912, 0.24652062828831223, 0.2465358719581297, 0.24600852249939578, 0.24603894462547002, 0.24577523728932268, 0.24592718488579213, 0.24566331451574303, 0.2457695637095404, 0.24550557921576, 0.24552074136862656, 0.24525674057145602, 0.24533246981883808, 0.24401205824823072, 0.2440271225807562, 0.2437630239632446, 0.24385331213805658, 0.24358911570020386, 0.24360414742594902, 0.24307572194346327, 0.2431957148951816, 0.24240268539008855, 0.24246248622526562, 0.24140485269756548, 0.24143462268803254, 0.24117018169932716, 0.24118505039117052, 0.2406561358069794, 0.2406709718920424, 0.24040649829655655, 0.24042131807822936, 0.2398923382804775, 0.23992191263026244, 0.23912834511329356, 0.23915782164273744, 0.2388932665303008, 0.23895215437562778, 0.23868753404963042, 0.23871694536551358, 0.23818763949995803, 0.23824633170460288, 0.237716895411926, 0.2379365020776388, 0.2376715393804477, 0.23771541180341973, 0.23745040019605806, 0.2375526550592615, 0.2372875293281686, 0.23731671239658925, 0.23705155405871597, 0.23710985498199652, 0.23657940787912843, 0.23660849312720802, 0.23634323696899368, 0.23638681593094246, 0.23612151086255756, 0.236136020879817, 0.23587069950804193, 0.23588519322191118, 0.23561985554674594, 0.23583701670393187, 0.23557143447791393, 0.23571604554880277, 0.23545030028888306, 0.23549363469997917, 0.2352278405298889, 0.23529998303143154, 0.23476823165734914, 0.23478262755087728, 0.23451673556044594, 0.2346892906421018, 0.23442320301098835, 0.23446629287123175, 0.23420015632994773, 0.23425754426337828, 0.23399134250853354, 0.23409165726830566, 0.2332927096325777, 0.23330699140237462, 0.23304065922040845, 0.2331405174852556, 0.23287407117955808, 0.23288832034257465, 0.23262185773348704, 0.23266455631236616, 0.23213153327384986, 0.23214573352669587, 0.23187920570404758, 0.23189338965350342, 0.2316268455274649, 0.23164101317353056, 0.23137445274410187, 0.23145936080015475, 0.23092604430061514, 0.23098251924419566, 0.23044907231753473, 0.23047724457576424, 0.2302104885056534, 0.23033711693717465, 0.23007021413655224, 0.23009832118122103, 0.22983138577381826, 0.23008405571481433, 0.2295495979779623, 0.22957760720229, 0.22904308425187717, 0.22905705625726067, 0.2287897784786641, 0.22881768988265078, 0.22855037949727386, 0.2286340158888928, 0.2283666076831748, 0.22847799244487854, 0.2279429151791997, 0.22801236762136276, 0.22774474747157245, 0.2277586216566149, 0.2272233487502539, 0.22725103190677806, 0.2269833628468171, 0.22702483867143278, 0.22675712070130138, 0.22686759247315513, 0.2265997440759023, 0.22683421943345847, 0.2265660938785726, 0.2266349757020794, 0.22636676863024263, 0.2264493289981097, 0.22591271921375403, 0.22592644666828487, 0.22565812547271685, 0.22569925892613876, 0.2254308888204001, 0.22545827851590103, 0.22518987580338212, 0.22527194706954384, 0.22500344653668386, 0.22505809550056427, 0.22478952975414357, 0.2248577594420432, 0.22458911217867158, 0.22460274181286133, 0.22433407824609955, 0.22437491823849826, 0.2235687808077013, 0.22358234522833031, 0.22331361644800773, 0.22338135703420198, 0.2231125467369286, 0.22312607855077726, 0.2228572519501137, 0.22299240705469864, 0.2224544277855679, 0.22246791068924604, 0.2221989047512905, 0.2222258379518664, 0.22195679940713048, 0.22206440178231274, 0.2212568948667406, 0.22127029625346786, 0.22100111097822034, 0.22102788114489444, 0.22075866326286658, 0.22077203204281345, 0.2205027978573954, 0.22055620776362223, 0.22028690836464343, 0.22030024453780997, 0.21976161313307208, 0.21985473809777525, 0.21958530827167505, 0.21959859553467104, 0.21905970327569016, 0.21911272190055267, 0.21884321055750158, 0.21885644891032702, 0.21831739361744448, 0.21834380510953463, 0.218074244856313, 0.21808743429896793, 0.2178178577423561, 0.21784420402088558, 0.21757459485749342, 0.21769300638036437, 0.2174232504864606, 0.2175283747463356, 0.21698860210428506, 0.21708035758421315, 0.2168103571394567, 0.21682344876177054, 0.21655343201362387, 0.2165795826514712, 0.21603948394161718, 0.2161046975023337, 0.21583456663045578, 0.21587364585671512, 0.21533328629261825, 0.21539825530248205, 0.21512799400348262, 0.2151669264992304, 0.21489661629006052, 0.21507807302275417, 0.21480753456612178, 0.214820479457924, 0.21454992469790143, 0.2145628532863135, 0.21429228222290075, 0.21431810679294447, 0.21404750312275136, 0.21406039910438307, 0.21378977913079977, 0.2139443352696979, 0.21367351965543246, 0.21381501677879708, 0.2135440218272397, 0.21355686889870082, 0.21328585764375313, 0.21341416532446283, 0.21287181674676411, 0.21291021123063597, 0.21263898803161604, 0.21265176988951648, 0.21210929088469632, 0.2122622818981372, 0.21199084675504498, 0.21215637507553364, 0.2116130809012044, 0.21162578124215395, 0.21135411785159922, 0.21136680188915857, 0.21109512219521365, 0.2111837963343979, 0.2109120025167217, 0.21092465394750073, 0.210381033705368, 0.21055769724134898, 0.21001362050429126, 0.21002620672150957, 0.20975415204959053, 0.20981700161873104, 0.209544865429861, 0.20959507987161272, 0.20932287846918204, 0.2093604903903253, 0.2090882400777241, 0.2091258030886968, 0.20885350386592508, 0.20902856966966854, 0.2087560421994343, 0.20883097258069752, 0.2085583472901222, 0.20858329147709628, 0.20803797568238494, 0.20805041516909162, 0.20750506676759983, 0.20762913556686297, 0.20735629833221533, 0.2073934700618237, 0.20712058391700555, 0.2071700810095894, 0.2068971296512105, 0.20695891949998937, 0.2066858866246596, 0.20674759495648756, 0.2062013661719262, 0.20622598429109665, 0.20595283729203562, 0.2059651300482307, 0.20541880344332814, 0.20544332374215754, 0.20517012783292596, 0.20520685937099953, 0.2049336145515974, 0.20499475226476913, 0.2047214259284161, 0.20478248212463693, 0.20450907427133302, 0.204533464143041, 0.2037131427627882, 0.20374958083983852, 0.20347609146958362, 0.2034882211918769, 0.20294120984458694, 0.20296540407561275, 0.20269186579518741, 0.20275226985580108, 0.2022050302610486, 0.20222912667173332, 0.20168182186342012, 0.20172988425766822, 0.2014561666399509, 0.2014681659351227, 0.20119443201401513, 0.20127831295648674, 0.2004567688219705, 0.20046870290358162, 0.199099381162437, 0.19919420167971877, 0.19892020690436832, 0.19902673325579873, 0.19875259174993676, 0.19884715141297565, 0.19857287947999228, 0.19859648678897165, 0.1983221822492079, 0.19833396960030739, 0.19805964875715346, 0.1980831908525721, 0.1975344839527035, 0.19754622239363248, 0.197271852640308, 0.19731874119046314, 0.19676987125669265, 0.19684000844124325, 0.19629094286679072, 0.1963025997907688, 0.19602805070015236, 0.19607461318250394, 0.19579999887832675, 0.1958232475127222, 0.19554860060176468, 0.19556020861557222, 0.19501088218687682, 0.1950687592220127, 0.194794014490714, 0.194805573594351, 0.19425605152497344, 0.19429063101554336, 0.19401582107068405, 0.1940618618445499, 0.19378698668612987, 0.19382146835635874, 0.19354654428776816, 0.19362688739457087, 0.19335184920224904, 0.19338623305213684, 0.19311114594964449, 0.19315692586926747, 0.1926066212371612, 0.1926180336102866, 0.19234286499084335, 0.19237705320004894, 0.19155140061120757, 0.1915854420899016, 0.19131017565011726, 0.19136682993098972, 0.19109148197425452, 0.19114805473817606, 0.19087262526448995, 0.1909291165114606, 0.1906536055208235, 0.19074386108885513, 0.19046821967109667, 0.1905358135267793, 0.1902600742886798, 0.19031632098479778, 0.1892130379645961, 0.18935843159821356, 0.18880636619996805, 0.18894018442655827, 0.1883877277469484, 0.1884210844832549, 0.18786852998330403, 0.18790178889926942, 0.18762546273912345, 0.1877250927565081, 0.18744861986585049, 0.18750388835855772, 0.18722733395094923, 0.18727148353155432, 0.18699486391038514, 0.18700588500214624, 0.18645261315302736, 0.1864745901229888, 0.18619792159164908, 0.1862418103180113, 0.18596507657311084, 0.18604176772051345, 0.18576491985188173, 0.1857977385763123, 0.1852439450187078, 0.1852657589547675, 0.18530938682688683, 0.1850323922277435, 0.18504328289238317, 0.18476627198984968, 0.1848097694348476, 0.18370146497047063, 0.18372308326584816, 0.18344597454297357, 0.18346756023157074, 0.1831904189019158, 0.1832011954428242, 0.1829240378097791, 0.182967078759852, 0.18268985591324619, 0.1827005998473742, 0.1824233606973782, 0.18250918174328112, 0.18223181216616358, 0.18224252349351128, 0.18141036585198841, 0.18146367793787416, 0.18118621054041564, 0.1812394411093505, 0.17929659870848455, 0.1793281946786517, 0.17905059685407174, 0.1790716282274028, 0.17879399779604252, 0.17880449717931787, 0.17769391024031594, 0.17772521274945985, 0.17744751710453874, 0.17746835283718765, 0.1771906245854863, 0.17721142771135484, 0.1769336668528731, 0.17697520789104954, 0.17669738181900707, 0.176707750775161, 0.17642990839972833, 0.17646096635801958, 0.17590518378681325, 0.17591550383279664, 0.1756375962438033, 0.1756478999863965, 0.1748141283092458, 0.17482438314166848, 0.17454644294589478, 0.17458739706202472, 0.1743093916526903, 0.17434005832961724, 0.17378394969060731, 0.1737941393094693, 0.173237998063679, 0.17326846909992377, 0.17271223003379232, 0.17272235443909356, 0.17216608276618187, 0.172236725355828, 0.1719584753956409, 0.1719685508907716, 0.1716902846271943, 0.17170034381893481, 0.17030893098409738, 0.170318908658887, 0.17004060978852936, 0.1700704939027277, 0.1697921461221995, 0.16990154187030143, 0.16906596051684097, 0.16913523362171207, 0.16857795113860916, 0.16863713244495937, 0.1683583933830669, 0.16838793512607148, 0.16810914715400843, 0.16816813281967652, 0.16788924702727243, 0.16789906166816027, 0.16734125747657172, 0.1673510395106792, 0.16707212111149475, 0.16719907561081956, 0.1669199452675628, 0.16693944412221703, 0.16582279232206837, 0.16584216074960118, 0.16528376963596617, 0.1652934212429522, 0.16501420938274453, 0.16502384468634038, 0.16474461652274253, 0.1647542355229482, 0.16419574658897215, 0.1642245057692481, 0.16394521239208945, 0.16395478248212458, 0.16367547280157585, 0.16369458037486578, 0.16341523808753666, 0.16342477557079146, 0.16258669979863358, 0.16261516551788632, 0.1623357580169965, 0.16234523028669057, 0.16206580648241056, 0.16208471841501834, 0.16180526200395798, 0.16183358099269912, 0.16155407567146812, 0.16156349903099165, 0.16100445578174952, 0.16102323728723583, 0.1607436830558344, 0.1607530575051874, 0.15991434590081255, 0.159923671439995, 0.1596440846018132, 0.1596906307807746, 0.15885162571537642, 0.15886088604099818, 0.15830151672395243, 0.15831997216163518, 0.15804025489633197, 0.1580586777272344, 0.1577789278551508, 0.1578157083033949, 0.15753589321775058, 0.15761850249578824, 0.1573385406796323, 0.15738435320603564, 0.15710430987292873, 0.1571317484786002, 0.15685165623532285, 0.15686078613382315, 0.15658067758715563, 0.15661713196759613, 0.1563369582073679, 0.1563551527908078, 0.155514533689782, 0.15553263045288082, 0.15469191353151382, 0.15474591035978708, 0.15446557356565704, 0.15451947257358922, 0.153958603344647, 0.15401230671189706, 0.15345124184227268, 0.15346015979670066, 0.15289906232029593, 0.1529257183632388, 0.15236452306649287, 0.15238222854822742, 0.1518209680379209, 0.1518297881720078, 0.15154914161346436, 0.1516283760897349, 0.15078599622256975, 0.1508035060636221, 0.1505226801677867, 0.15055763463633076, 0.15027674352693454, 0.15028546584068034, 0.14972365101510773, 0.1497410304290387, 0.14946009040947203, 0.14947743721662263, 0.1491964645902756, 0.1492570642915714, 0.1489759775414931, 0.14901054072867287, 0.1481670848377559, 0.14818426861100467, 0.14790308404058522, 0.14791165962381944, 0.1476304587500099, 0.14763901802985396, 0.14707658367545454, 0.14711921704077294, 0.14683791834662235, 0.14686344945564284, 0.1465821018513217, 0.14659059591760504, 0.1463092320098937, 0.14632618753568, 0.1460447910211883, 0.14607017539969722, 0.145788729975035, 0.14582251059948614, 0.1455409999612631, 0.14563371734121178, 0.14507033739018196, 0.14507873363612422, 0.14479702735721914, 0.1448137872423233, 0.14453204835663785, 0.14454041199579973, 0.14425865680672412, 0.14426700414249582, 0.14398523265003002, 0.14399356368241156, 0.14371177588655557, 0.1437284053445383, 0.14344658494190185, 0.1434631817931042, 0.14289947577427078, 0.14291600741191243, 0.14263412179571539, 0.14265062082657665, 0.14208678438062183, 0.14211965201522295, 0.14183766857868482, 0.14188687221024543, 0.141322709696487, 0.1413798856858452, 0.14081549492462417, 0.14083176570802294, 0.14054953772063214, 0.14059013316217814, 0.14030782365783642, 0.14031592644275545, 0.14003360063502357, 0.14004977359808127, 0.139767415183569, 0.13982390643053969, 0.13897648881580918, 0.13900857388768167, 0.13872603613587736, 0.13875005102961122, 0.1381848777056617, 0.1381928500634593, 0.13762764413272943, 0.13765146338578113, 0.1370861596347102, 0.13709406677894706, 0.13652873042109565, 0.13657597764583476, 0.1360104456473013, 0.13602612950865361, 0.13574333090260654, 0.13577463341175044, 0.13549176959214265, 0.13549957891603845, 0.13521669879304046, 0.13524007785455733, 0.1343912907550518, 0.13439903486538687, 0.13411608952882806, 0.13416245637049748, 0.13387941321359773, 0.13388712471715244, 0.13332100579657255, 0.13335172138367002, 0.13306859670981935, 0.13307625930320352, 0.1327931183259627, 0.13282370348593875, 0.13254049729513717, 0.13255575726834481, 0.1322725184707629, 0.13228013215397655, 0.13199687705300445, 0.13200447443282792, 0.13172120302846554, 0.13173636518133214, 0.1308864531479042, 0.13099943564184555, 0.13071588707985024, 0.130791045708576, 0.13050733411267887, 0.13058982926698526, 0.13030593833379617, 0.13031342158988837, 0.13002951435330912, 0.13005191521141524, 0.12976795906466532, 0.1297754097139772, 0.12949143726383722, 0.12949887160975887, 0.1292148828562287, 0.12922230089876022, 0.12893829584183988, 0.12895309932012253, 0.12866906165642183, 0.12868383252792412, 0.128115691986962, 0.12813775047387435, 0.12756951211257117, 0.1275768323347616, 0.12729269685071973, 0.1273219125259207, 0.12703771182831822, 0.12705228705913837, 0.12648382045037268, 0.1265128404848915, 0.12594424344900437, 0.12596591065455243, 0.12454417351398182, 0.12458701882337256, 0.12430257357491738, 0.12430969815642566, 0.12402523660458031, 0.12403945316081649, 0.12375495900219079, 0.1237620509769187, 0.12319303005288691, 0.12320008942083448, 0.12291556265542841, 0.12295077797821531, 0.12266616969585835, 0.12268724997935997, 0.12240259278683235, 0.12240960324460937, 0.12212492974869169, 0.12213891805746538, 0.12185421195476734, 0.12189607906074733, 0.12161127513770821, 0.12162519823292117, 0.12105552517328222, 0.12106938305493449, 0.12078451391833465, 0.1208605529301301, 0.12057550445623828, 0.12058240079028407, 0.12029733601300197, 0.12031109607431315, 0.12002599869025081, 0.12003972614478163, 0.11946946616309623, 0.11948312840406634, 0.11891280320882022, 0.11893319874993431, 0.1186479872421407, 0.11867511608339877, 0.11838983936204446, 0.11841690298974182, 0.11813156105482679, 0.11813831065836093, 0.11785295242005563, 0.1178596857201996, 0.11757431117850421, 0.11759446216876562, 0.11702361526503377, 0.1170302996550072, 0.1167448598997511, 0.11675152798633437, 0.11646607192768808, 0.11649933084365349, 0.11592825569245914, 0.11595473239811004, 0.11566912960895215, 0.11567573248197469, 0.11539011338942651, 0.11542963280722071, 0.11514391589433157, 0.11515705642681595, 0.11487130690714643, 0.11488441483285045, 0.11459863270640058, 0.11460517036586242, 0.11431937193602237, 0.11434545736030896, 0.1140595937169082, 0.1140856139276341, 0.11379968507067262, 0.1138061738199639, 0.11323428349926049, 0.11324073964177142, 0.11295477817802958, 0.1129676578562711, 0.11268166378574891, 0.11268808732147949, 0.11240207694756711, 0.11244692757394988, 0.11216080307630624, 0.11218636679210713, 0.11190017708090279, 0.11191292633202285, 0.11162670401403815, 0.11167757059139703, 0.11139121784629089, 0.11139755986507058, 0.11025208367108522, 0.11030857491805587, 0.11002205913904796, 0.11005336164819188, 0.10976676435223305, 0.10977300855067165, 0.10948639495132266, 0.1094988507414195, 0.10921220453529014, 0.1092184161269484, 0.10893175361742885, 0.10895653477050112, 0.10866980704742087, 0.10867598603229876, 0.10838924200582822, 0.10841389273177905, 0.10784027425171676, 0.10785866447583882, 0.10757180632563713, 0.1075779200969543, 0.1067172967361787, 0.10672336159732533, 0.10643647084034329, 0.10645461651361265, 0.10616767684646007, 0.10617370910082635, 0.10588675313028348, 0.10589276908125957, 0.1053188245333937, 0.10532480787758942, 0.10503781930026632, 0.10504378634107188, 0.10446977657964528, 0.10448164544769568, 0.10419460796020202, 0.10420052609083705, 0.10362641850906927, 0.10363230403292392, 0.1030581638443759, 0.10310498718097034, 0.10253058613817945, 0.10254804706906129, 0.10226079763749531, 0.10226660164439907, 0.10197933590944291, 0.1019851236129565, 0.10169784157461015, 0.10170938437485696, 0.10142206972973027, 0.10143357992319674, 0.10114623267128957, 0.10115197146463262, 0.10057724435403814, 0.10060006910028892, 0.10031264033143096, 0.10031833021460347, 0.10003088514235534, 0.10003655872213768, 0.09974909734649937, 0.09975475462289152, 0.09946727694386302, 0.09948984083587094, 0.09920229794328173, 0.09922479662172891, 0.09893718851557898, 0.09898205544535194, 0.09869431691208047, 0.09870550103774335, 0.09841772989769162, 0.09842330565713289, 0.0978477307702491, 0.09785327392291, 0.09756547017607793, 0.09757652387461936, 0.0970008511673945, 0.09701183965237523, 0.09672397069198244, 0.09672944863108263, 0.09644156336729955, 0.09645248663871955, 0.09616456876815623, 0.09617001410047606, 0.09588207992652255, 0.09594179924474869, 0.09478934519976677, 0.09481616427661142, 0.09452796924841506, 0.09454935929633006, 0.09397283881281578, 0.09397815371801417, 0.09368987717286689, 0.09370047437648334, 0.0934121652245557, 0.09341744752297373, 0.09312912206765593, 0.0931449200527395, 0.0925681713217628, 0.09257863809825781, 0.09229023112598911, 0.09229544821084641, 0.09200702493518753, 0.09201222571665468, 0.09143534655855645, 0.09147152378136393, 0.09118297007858361, 0.09120357756377002, 0.09062633973108795, 0.09063657826012045, 0.09034792673699907, 0.09035302969812513, 0.089775694045102, 0.0897858347537934, 0.08949713432050148, 0.08950724242241254, 0.08921850938234015, 0.08922354712990549, 0.08893479778644303, 0.08897496933984439, 0.08839720979867659, 0.08840718747346622, 0.08811827509610196, 0.0881232476301066, 0.08783431894935216, 0.08786901256365333, 0.08729092695468195, 0.08731062145001833, 0.08673240541392542, 0.0867421874480329, 0.08645304682320613, 0.08646279625053326, 0.08501693009249764, 0.08503610287934829, 0.0844576259890126, 0.08446238657894492, 0.08417313183038679, 0.08418262040347103, 0.08389333304813265, 0.08389806103128461, 0.0833194537138275, 0.08332884446657067, 0.08275017193555284, 0.08276882301391776, 0.08247942153484814, 0.08248871446725024, 0.08162041220970016, 0.08162960732176118, 0.08134014062913084, 0.08134930313441151, 0.0810598038350008, 0.08106436878425097, 0.08048533757864919, 0.08048986992111898, 0.08020033801492792, 0.08020485405400754, 0.0799153058444263, 0.07992430531580517, 0.07963472449944357, 0.07965265822864061, 0.07936301219871819, 0.07937641358544544, 0.07908671864535258, 0.07910897277294708, 0.07881919631590334, 0.07882363083803205, 0.07853383807759812, 0.07854709273381376, 0.07796740939260483, 0.07798495184043755, 0.07769504495627237, 0.0777081528819764, 0.07712824129330495, 0.0771325779950926, 0.07655263379964068, 0.07656554608466255, 0.07627552507676612, 0.07627981286838323, 0.07598977555709661, 0.07599404704532355, 0.07512388620129315, 0.07512810877934956, 0.07454796894321561, 0.07455215891449164, 0.07426207269303438, 0.07427459369669194, 0.07398445856506425, 0.07400108802304696, 0.07371088767785856, 0.07374815722780803, 0.07345781015210802, 0.07346193490982333, 0.07317157153073314, 0.07319211380235884, 0.07290166890631775, 0.0729057610572527, 0.07203437745895877, 0.07204650718125204, 0.07146548696204842, 0.07148152949798467, 0.07119095417482214, 0.07121092582779158, 0.07092026898767816, 0.07094015912369668, 0.07064942076663237, 0.07067715283332705, 0.07038630035253149, 0.07039813661380152, 0.06952543244090309, 0.06953322546140872, 0.06924229146366224, 0.06925005187738752, 0.0689590852728607, 0.0689668130798056, 0.06838481465719122, 0.06839247725057541, 0.06781041361440032, 0.06782560837404727, 0.06753451134239902, 0.06753829372892058, 0.06608272705372827, 0.06610493227115224, 0.06552250996039322, 0.06555919258829625, 0.06497644420973364, 0.06498371552175353, 0.06469230872569187, 0.06469592807831162, 0.06382165877995599, 0.06384665187710059, 0.06326357743073441, 0.06328480444474763, 0.06270153435769929, 0.0627085448154763, 0.062416877165171775, 0.062427343941666776, 0.06184391082071654, 0.061857736095588436, 0.06156595432155265, 0.06158315439819163, 0.06099942781621827, 0.06102668708459777, 0.06073469336648966, 0.06074147557680417, 0.060157422927027235, 0.06017085692053484, 0.05958667384363636, 0.05958999973523289, 0.05929789189339353, 0.05931443983442534, 0.05902225047563508, 0.05902883704526745, 0.05873661507969683, 0.058743169042548844, 0.058450914470197866, 0.058454175148233686, 0.05816190427249253, 0.058168393021783824, 0.05758378605674079, 0.057593421360336655, 0.0573010689676446, 0.057336219076870795, 0.056751155616902645, 0.056757481332292144, 0.05646491699552777, 0.05646806354983234, 0.056175482909677776, 0.056178613160592174, 0.05588601621704743, 0.055892244112095854, 0.05559961456177076, 0.05561820042657496, 0.05532547305590879, 0.055347042441115775, 0.05505420094671835, 0.055057265984072026, 0.054764408186284315, 0.05476745692024781, 0.05447458281907002, 0.05449580983308324, 0.05390983338326517, 0.05391583303085109, 0.05362281219916169, 0.05362877923996725, 0.05304267236302774, 0.05305742693113985, 0.0527642919757192, 0.052776030416648176, 0.052482830247666805, 0.052491585168192995, 0.05190508700988908, 0.05190797270995078, 0.05132144194486662, 0.051332854317992005, 0.051039523721889204, 0.05105087088145387, 0.05046407926212684, 0.050466883445237656, 0.04988005921913027, 0.04989114552445207, 0.04959766819783755, 0.049600423470777824, 0.049013436210768646, 0.049016158876928555, 0.048722648943533786, 0.04873347439461272, 0.04755917380679078, 0.04757237955283587, 0.047278722888929384, 0.04729709680966126, 0.04670955523438599, 0.04672251642957839, 0.04642866412498986, 0.046441543803231365, 0.04614760998169194, 0.04615272924620819, 0.0458587628178884, 0.045868936133360176, 0.045574904491479676, 0.04559006664434626, 0.045295937182124685, 0.04530849079256261, 0.04501427981339014, 0.045016774232087546, 0.04472254694952479, 0.04472750318013924, 0.04443324329079623, 0.044438166914630324, 0.04414387441850696, 0.04415121094408756, 0.04356252813149975, 0.04357459264023231, 0.042691323870497906, 0.04270314382837777, 0.042408639388182075, 0.04242272551729684, 0.041833520996223186, 0.04183583607762863, 0.041246598949774727, 0.04125572884827503, 0.040961045070787364, 0.04096557741325717, 0.04067086102898914, 0.04067536076467858, 0.039496364800484934, 0.03950728807190495, 0.038917627055906394, 0.038921931150913684, 0.03862706803613405, 0.038637746756701376, 0.03834280212497084, 0.038357638210033844, 0.03806257945457206, 0.038077301415903805, 0.037782128536710764, 0.037786302204596625, 0.037491096718623225, 0.03749730831028147, 0.037202053914137424, 0.03720410814129999, 0.03690883744176588, 0.03691087536553827, 0.03661558836261398, 0.03662367484414282, 0.0360329704111728, 0.03605087153358948, 0.03575537258659286, 0.03575734529680453, 0.03546183004641773, 0.035471612080525204, 0.03517601531318751, 0.03517989552005014, 0.03488426614593208, 0.03488618994597322, 0.03429489859095664, 0.03430246336399976, 0.03400675247293081, 0.034010502252672006, 0.033714758754822695, 0.033725910273705216, 0.033430068955514834, 0.03344480722023676, 0.03314883547492494, 0.033157965373425254, 0.03286191211116254, 0.03286734114009219, 0.03257123896765894, 0.03257303234057864, 0.03227691386475521, 0.03228402214287331, 0.031987838453489056, 0.03199135998576775, 0.031695143689603245, 0.031703866003349075, 0.031111270377118274, 0.031121541512931124, 0.030232354612561702, 0.03023401755835997, 0.029641193684666556, 0.02964934537975612, 0.02935285192595857, 0.029354465961586303, 0.029057956204398574, 0.029061151668873682, 0.028764609304905594, 0.028766190733752972, 0.028469632066394704, 0.028474327442766297, 0.028177719865237493, 0.028194756907974676, 0.027897969993153904, 0.02789950251183074, 0.027009092857197773, 0.027016510899729274, 0.026422741429405577, 0.026427094434583406, 0.02613016078925102, 0.02613446488425831, 0.025837482328755386, 0.02584315590853772, 0.02554610813947408, 0.025547510231029486, 0.025250446158575666, 0.025272618769219275, 0.024975293842522592, 0.02498351075117287, 0.02468608800413511, 0.024690147548289715, 0.02439267589108131, 0.024406044671028193, 0.024108409979918102, 0.024122936300567704, 0.023825122272165645, 0.023835556441880283, 0.023537611986356795, 0.023553067600246603, 0.02265864731162968, 0.022661125426936907, 0.022362952723950908, 0.02236906649526808, 0.022070812275331187, 0.022079257431443972, 0.021780889087775715, 0.02178207923525879, 0.021483694588200465, 0.02149191149685074, 0.02119341272606116, 0.021194570266763878, 0.02089605519258412, 0.020899478904521734, 0.020600914920171437, 0.020603164788016156, 0.0203045681968855, 0.0203101113495464, 0.02001143324146485, 0.020014710222890853, 0.019715983204638764, 0.01971813525214241, 0.019419375627109853, 0.01942149506783314, 0.018823910604207527, 0.018828019058532666, 0.01823030416778562, 0.018238260222193034, 0.017341296604708168, 0.017344133394599337, 0.017045096611933843, 0.017046955198414263, 0.016747885808968303, 0.016750624778518398, 0.01645150647890201, 0.01645329985182171, 0.016154148945424968, 0.01615502932849464, 0.015855862118707712, 0.015856726198387208, 0.015258359172032996, 0.015264179482326945, 0.014964881845418587, 0.014966512184436499, 0.01496814252345441, 0.014968957692963367, 0.014669578539104113, 0.014671176271341667, 0.014371764510702056, 0.014372547073430653, 0.014073119009400753, 0.01407388526873917, 0.013774440901319199, 0.01377744072511216, 0.013477931144131473, 0.013482333059479837, 0.013182725658158074, 0.013183443007325955, 0.012883819302614013, 0.012885922439947121, 0.012586249825064642, 0.012586934567452166, 0.01228724564917951, 0.012288582527174196, 0.01198886100212118, 0.01199146954454984, 0.011691682805935999, 0.01169295447036997, 0.011393135124975879, 0.011394374182629494, 0.011094522230455045, 0.011096331906764928, 0.01079643104441994, 0.010798191810559287, 0.010498242038043762, 0.010503377605950187, 0.010203281102923052, 0.010203835418189143, 0.009903722611771828, 0.009904798635523649, 0.009604653222325977, 0.009606740056268903, 0.009306529429510515, 0.009308045644797173, 0.00870752657093921, 0.008709417764199989, 0.008108768263220701, 0.008111409412429719, 0.007810986841599001, 0.007812682394177631, 0.007512194609786195, 0.007512602194540674, 0.006911594018977446, 0.006912343974925687, 0.006311270585801632, 0.006314351926545486, 0.006013668501471903, 0.0060162770439005624, 0.005715463191705545, 0.0057160827205323525, 0.0051143898025816014, 0.005116052748379872, 0.004514164189746972, 0.004515631494863093, 0.004214589395205568, 0.00421641537490563, 0.003915242848126562, 0.003919481729573134, 0.0036179831349905938, 0.0036213090265871353, 0.00331953327437155, 0.0033202506235394313, 0.0030184096577631297, 0.003018572691664921, 0.00271671542249844, 0.002716862153010052, 0.002414988580453392, 0.0024153798618176906, 0.001811534896363296, 0.0018117305370454453, 0.0015097754475378897, 0.0015098569644887852, 0.0009059141786932046, 0.0009063054600575035, 0.0006042036400383357, 0.0006042688535990523, 0.0, 0.0]\n",
            "0.3703177478575063\n"
          ]
        }
      ]
    },
    {
      "cell_type": "code",
      "source": [
        "# Pick the best threshold among the probability estimates, such that it has to yield maximum value for TPR*(1-FPR)\n",
        "# Plot the confusion matrices(each for train and test data) afer encoding the predicted class labels, on the basis of the best threshod probability estimate.\n",
        "plt.plot(test[0],test[1],label=\"Test\",color='red')\n",
        "plt.plot(train[0],train[1],label=\"Train\",color='blue')\n",
        "plt.xlabel(\"False positive rate\")\n",
        "plt.ylabel(\"True positive rate\")\n",
        "plt.legend()\n",
        "plt.show()"
      ],
      "metadata": {
        "colab": {
          "base_uri": "https://localhost:8080/",
          "height": 279
        },
        "id": "5cUDyGVVyi6q",
        "outputId": "5bbe6303-3e69-4777-d01d-75a838503544"
      },
      "execution_count": 140,
      "outputs": [
        {
          "output_type": "display_data",
          "data": {
            "text/plain": [
              "<Figure size 432x288 with 1 Axes>"
            ],
            "image/png": "[encoded data removed]"
          },
          "metadata": {
            "needs_background": "light"
          }
        }
      ]
    },
    {
      "cell_type": "code",
      "source": [
        "predicted = y_pred_test[:,1]\n",
        "predicted[predicted>optimal_theta] = 1\n",
        "predicted[predicted<= optimal_theta] = 0\n",
        "matrix = confusion_matrix(y_test,predicted)\n",
        "disp = ConfusionMatrixDisplay(confusion_matrix=matrix)\n",
        "disp.plot()"
      ],
      "metadata": {
        "colab": {
          "base_uri": "https://localhost:8080/",
          "height": 296
        },
        "id": "L07xeSgYzMGK",
        "outputId": "29c381b6-05f8-4c9c-d6e6-904c57cd0456"
      },
      "execution_count": 141,
      "outputs": [
        {
          "output_type": "execute_result",
          "data": {
            "text/plain": [
              "<sklearn.metrics._plot.confusion_matrix.ConfusionMatrixDisplay at 0x7f9f150a44f0>"
            ]
          },
          "metadata": {},
          "execution_count": 141
        },
        {
          "output_type": "display_data",
          "data": {
            "text/plain": [
              "<Figure size 432x288 with 2 Axes>"
            ],
            "image/png": "[encoded data removed]"
          },
          "metadata": {
            "needs_background": "light"
          }
        }
      ]
    },
    {
      "cell_type": "code",
      "source": [
        "# def topKfretures_indices(model,class_,k):\n",
        "#     max_index = np.argpartition(model.feature_log_prob_[class_], -k)[-k:]# Less the probality values the more negative the log value would be\n",
        "#     return max_index\n",
        "# def printTopKfeatur(model,class_,c):\n",
        "#     indices = topKfretures_indices(model,class_,c)\n",
        "#     featur_index = [train_bow.shape,train_state.shape,train_prefic.shape,train_grade.shape,\n",
        "#                     trian_cat.shape,train_sub.shape,train_price.shape,train_prev_posted.shape]\n",
        "#     mapp =  {0:'_wordE',1:'_state',2:'_prefic',3:'_grade',4:'_cat',5:'_sub',\n",
        "#              6:'_price',7:'_prev_posted'}\n",
        "#     models = {'_wordE':model_bow, '_state':model_state ,'_prefic':model_prefix ,\n",
        "#               '_grade':model_grade ,'_cat':model_cat,'_sub':model_sub,\n",
        "#              '_price':model_price,'_prev_posted':model_prev_posted}\n",
        "    \n",
        "#     index_mapp = {}\n",
        "#     caps = []\n",
        "#     summ = 0 \n",
        "#     for i in range(len(featur_index)):\n",
        "#         summ += featur_index[i][1]\n",
        "#         index_mapp[summ]=mapp[i]\n",
        "#         caps.append(summ)\n",
        "#     #print(caps)\n",
        "#     inv_mapp = list(index_mapp.keys())\n",
        "#     count=0\n",
        "#     for i in indices:\n",
        "#         found = False\n",
        "#         count+=1\n",
        "#         for k in range(len(inv_mapp)-2):\n",
        "\n",
        "#             if i<inv_mapp[k]:\n",
        "#                 found = True\n",
        "#                 #print(i,inv_mapp[k],index_mapp[inv_mapp[k]])\n",
        "#                 class_num = k\n",
        "#                 model_index = i# index in full vector space\n",
        "#                 if class_num>0:\n",
        "#                     model_index=model_index - caps[class_num-1]-1\n",
        "#                 # print(model_index)\n",
        "#                 # print(models[mapp[k]].vocabulary_.items())\n",
        "#                 for i in models[mapp[k]].vocabulary_.items():\n",
        "#                     if i[1]==model_index:\n",
        "#                         print(count,\". \",i[0])\n",
        "#                         break\n",
        "#                 break\n",
        "#         if not found:\n",
        "#             if i<caps[-2]:\n",
        "#                 print(count,\". \",'_price')\n",
        "#             elif i < caps[-1]:\n",
        "#                 print(count,\". \",'_prev_posted')\n",
        "# print(\"Top featurs that contributed to the Negative class: \")\n",
        "# printTopKfeatur(bestmnb,0,20)\n",
        "# print(20*\"#\"+\"\\n\"+20*\"#\")\n",
        "# print(\"Top featurs that contributed to the Positive class: \")\n",
        "# printTopKfeatur(bestmnb,1,20)"
      ],
      "metadata": {
        "colab": {
          "base_uri": "https://localhost:8080/",
          "height": 373
        },
        "id": "HZNGouRPzqTz",
        "outputId": "29dcd344-c45d-4e47-b7e3-e96db1e6e169"
      },
      "execution_count": 142,
      "outputs": [
        {
          "output_type": "stream",
          "name": "stdout",
          "text": [
            "Top featurs that contributed to the Negative class: \n"
          ]
        },
        {
          "output_type": "error",
          "ename": "NameError",
          "evalue": "ignored",
          "traceback": [
            "\u001b[0;31m---------------------------------------------------------------------------\u001b[0m",
            "\u001b[0;31mNameError\u001b[0m                                 Traceback (most recent call last)",
            "\u001b[0;32m<ipython-input-142-8aa5e76d919b>\u001b[0m in \u001b[0;36m<module>\u001b[0;34m\u001b[0m\n\u001b[1;32m     47\u001b[0m                 \u001b[0mprint\u001b[0m\u001b[0;34m(\u001b[0m\u001b[0mcount\u001b[0m\u001b[0;34m,\u001b[0m\u001b[0;34m\". \"\u001b[0m\u001b[0;34m,\u001b[0m\u001b[0;34m'_prev_posted'\u001b[0m\u001b[0;34m)\u001b[0m\u001b[0;34m\u001b[0m\u001b[0;34m\u001b[0m\u001b[0m\n\u001b[1;32m     48\u001b[0m \u001b[0mprint\u001b[0m\u001b[0;34m(\u001b[0m\u001b[0;34m\"Top featurs that contributed to the Negative class: \"\u001b[0m\u001b[0;34m)\u001b[0m\u001b[0;34m\u001b[0m\u001b[0;34m\u001b[0m\u001b[0m\n\u001b[0;32m---> 49\u001b[0;31m \u001b[0mprintTopKfeatur\u001b[0m\u001b[0;34m(\u001b[0m\u001b[0mbestmnb\u001b[0m\u001b[0;34m,\u001b[0m\u001b[0;36m0\u001b[0m\u001b[0;34m,\u001b[0m\u001b[0;36m20\u001b[0m\u001b[0;34m)\u001b[0m\u001b[0;34m\u001b[0m\u001b[0;34m\u001b[0m\u001b[0m\n\u001b[0m\u001b[1;32m     50\u001b[0m \u001b[0mprint\u001b[0m\u001b[0;34m(\u001b[0m\u001b[0;36m20\u001b[0m\u001b[0;34m*\u001b[0m\u001b[0;34m\"#\"\u001b[0m\u001b[0;34m+\u001b[0m\u001b[0;34m\"\\n\"\u001b[0m\u001b[0;34m+\u001b[0m\u001b[0;36m20\u001b[0m\u001b[0;34m*\u001b[0m\u001b[0;34m\"#\"\u001b[0m\u001b[0;34m)\u001b[0m\u001b[0;34m\u001b[0m\u001b[0;34m\u001b[0m\u001b[0m\n\u001b[1;32m     51\u001b[0m \u001b[0mprint\u001b[0m\u001b[0;34m(\u001b[0m\u001b[0;34m\"Top featurs that contributed to the Positive class: \"\u001b[0m\u001b[0;34m)\u001b[0m\u001b[0;34m\u001b[0m\u001b[0;34m\u001b[0m\u001b[0m\n",
            "\u001b[0;32m<ipython-input-142-8aa5e76d919b>\u001b[0m in \u001b[0;36mprintTopKfeatur\u001b[0;34m(model, class_, c)\u001b[0m\n\u001b[1;32m      8\u001b[0m     mapp =  {0:'_wordE',1:'_state',2:'_prefic',3:'_grade',4:'_cat',5:'_sub',\n\u001b[1;32m      9\u001b[0m              6:'_price',7:'_prev_posted'}\n\u001b[0;32m---> 10\u001b[0;31m     models = {'_wordE':model_bow, '_state':model_state ,'_prefic':model_prefix ,\n\u001b[0m\u001b[1;32m     11\u001b[0m               \u001b[0;34m'_grade'\u001b[0m\u001b[0;34m:\u001b[0m\u001b[0mmodel_grade\u001b[0m \u001b[0;34m,\u001b[0m\u001b[0;34m'_cat'\u001b[0m\u001b[0;34m:\u001b[0m\u001b[0mmodel_cat\u001b[0m\u001b[0;34m,\u001b[0m\u001b[0;34m'_sub'\u001b[0m\u001b[0;34m:\u001b[0m\u001b[0mmodel_sub\u001b[0m\u001b[0;34m,\u001b[0m\u001b[0;34m\u001b[0m\u001b[0;34m\u001b[0m\u001b[0m\n\u001b[1;32m     12\u001b[0m              '_price':model_price,'_prev_posted':model_prev_posted}\n",
            "\u001b[0;31mNameError\u001b[0m: name 'model_bow' is not defined"
          ]
        }
      ]
    },
    {
      "cell_type": "markdown",
      "source": [],
      "metadata": {
        "id": "5kGf5iHAeohK"
      }
    }
  ]
}